{
 "cells": [
  {
   "cell_type": "code",
   "execution_count": 4,
   "id": "126022a8",
   "metadata": {},
   "outputs": [
    {
     "name": "stdout",
     "output_type": "stream",
     "text": [
      "1\n",
      "2\n",
      "3\n",
      "4\n",
      "5\n"
     ]
    }
   ],
   "source": [
    "i = 1\n",
    "while(i<=5):\n",
    "    print(i)\n",
    "    i+=1"
   ]
  },
  {
   "cell_type": "code",
   "execution_count": 75,
   "id": "2fa9a5f0",
   "metadata": {
    "scrolled": true
   },
   "outputs": [
    {
     "name": "stdout",
     "output_type": "stream",
     "text": [
      "1 - Taha\n",
      "2 - Taha\n",
      "3 - Taha\n",
      "4 - Taha\n",
      "5 - Taha\n",
      "6 - Taha\n",
      "7 - Taha\n",
      "8 - Taha\n",
      "9 - Taha\n",
      "10 - Taha\n"
     ]
    }
   ],
   "source": [
    "i = 0\n",
    "x = 0\n",
    "sayilar = [1,2]\n",
    "\n",
    "while(i<10):\n",
    "    son = sayilar[len(sayilar)-1]\n",
    "    print(sayilar[x],\"- Taha\")\n",
    "    sayilar = sayilar + [son+1]\n",
    "    x += 1\n",
    "    i += 1"
   ]
  },
  {
   "cell_type": "code",
   "execution_count": null,
   "id": "f8c96953",
   "metadata": {},
   "outputs": [],
   "source": []
  }
 ],
 "metadata": {
  "kernelspec": {
   "display_name": "Python 3",
   "language": "python",
   "name": "python3"
  },
  "language_info": {
   "codemirror_mode": {
    "name": "ipython",
    "version": 3
   },
   "file_extension": ".py",
   "mimetype": "text/x-python",
   "name": "python",
   "nbconvert_exporter": "python",
   "pygments_lexer": "ipython3",
   "version": "3.8.8"
  }
 },
 "nbformat": 4,
 "nbformat_minor": 5
}
