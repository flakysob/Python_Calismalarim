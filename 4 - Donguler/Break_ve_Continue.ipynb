{
 "cells": [
  {
   "cell_type": "code",
   "execution_count": 20,
   "id": "4064e1ba",
   "metadata": {},
   "outputs": [
    {
     "name": "stdout",
     "output_type": "stream",
     "text": [
      "0 1 2 3 4 5 6 7 8 9 10 11 12 13 14 15 16 17 18 19 "
     ]
    }
   ],
   "source": [
    "i = 0\n",
    "\n",
    "while(i<20):\n",
    "    print(i, end=\" \")\n",
    "    i += 1"
   ]
  },
  {
   "cell_type": "code",
   "execution_count": 22,
   "id": "210f95fe",
   "metadata": {},
   "outputs": [
    {
     "name": "stdout",
     "output_type": "stream",
     "text": [
      "0 1 2 3 4 5 6 7 8 9 10 \n",
      " 10 olduğu için sonlandı!\n"
     ]
    }
   ],
   "source": [
    "i = 0\n",
    "\n",
    "while(i<20):\n",
    "    print(i, end = \" \")\n",
    "    if(i==10):\n",
    "        print(\"\\n 10 olduğu için sonlandı!\")\n",
    "        break\n",
    "    i += 1"
   ]
  },
  {
   "cell_type": "code",
   "execution_count": 9,
   "id": "65f48f15",
   "metadata": {},
   "outputs": [
    {
     "name": "stdout",
     "output_type": "stream",
     "text": [
      "1\n",
      "2\n",
      "3\n",
      "4\n"
     ]
    }
   ],
   "source": [
    "#for döngüsünde break kullanımı\n",
    "liste = [1,2,3,4,5,6,7,8,9]\n",
    "for i in liste:\n",
    "    if(i==5):\n",
    "        break\n",
    "    print(i)"
   ]
  },
  {
   "cell_type": "code",
   "execution_count": 19,
   "id": "89c6fd36",
   "metadata": {},
   "outputs": [
    {
     "name": "stdout",
     "output_type": "stream",
     "text": [
      "İsminizi girin (Çıkmak için Q+Enter) :Taha\n",
      "Taha\n",
      "İsminizi girin (Çıkmak için Q+Enter) :Doğan\n",
      "Doğan\n",
      "İsminizi girin (Çıkmak için Q+Enter) :q\n"
     ]
    }
   ],
   "source": [
    "while True: #sonsuz döngü\n",
    "    isim = input(\"İsminizi girin (Çıkmak için Q+Enter) :\")\n",
    "    if ((isim==\"q\") or (isim==\"Q\")):\n",
    "        break\n",
    "    print(isim)"
   ]
  },
  {
   "cell_type": "code",
   "execution_count": 23,
   "id": "92ace856",
   "metadata": {},
   "outputs": [
    {
     "name": "stdout",
     "output_type": "stream",
     "text": [
      "x  1\n",
      "x  2\n",
      "x  3\n",
      "x  4\n",
      "x  5\n",
      "x  6\n",
      "x  7\n",
      "x  8\n",
      "x  9\n",
      "x  10\n"
     ]
    }
   ],
   "source": [
    "liste = [1,2,3,4,5,6,7,8,9,10]\n",
    "\n",
    "for x in liste:\n",
    "    print(\"x \",x)"
   ]
  },
  {
   "cell_type": "code",
   "execution_count": 25,
   "id": "6ca22415",
   "metadata": {},
   "outputs": [
    {
     "name": "stdout",
     "output_type": "stream",
     "text": [
      "x  1\n",
      "x  2\n",
      "x  4\n",
      "x  6\n",
      "x  7\n",
      "x  8\n",
      "x  9\n",
      "x  10\n"
     ]
    }
   ],
   "source": [
    "liste = [1,2,3,4,5,6,7,8,9,10]\n",
    "\n",
    "for x in liste:\n",
    "    if(x == 3 or x==5):\n",
    "        continue\n",
    "    print(\"x \",x)"
   ]
  },
  {
   "cell_type": "code",
   "execution_count": null,
   "id": "ccda713d",
   "metadata": {},
   "outputs": [],
   "source": []
  }
 ],
 "metadata": {
  "kernelspec": {
   "display_name": "Python 3",
   "language": "python",
   "name": "python3"
  },
  "language_info": {
   "codemirror_mode": {
    "name": "ipython",
    "version": 3
   },
   "file_extension": ".py",
   "mimetype": "text/x-python",
   "name": "python",
   "nbconvert_exporter": "python",
   "pygments_lexer": "ipython3",
   "version": "3.8.8"
  }
 },
 "nbformat": 4,
 "nbformat_minor": 5
}
