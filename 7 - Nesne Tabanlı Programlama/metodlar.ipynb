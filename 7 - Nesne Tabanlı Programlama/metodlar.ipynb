{
 "cells": [
  {
   "cell_type": "code",
   "execution_count": 1,
   "source": [
    "class Yazilimci():\r\n",
    "    def __init__(self, isim, soyisim, numara, maas, diller):\r\n",
    "        Yazilimci.isim = isim\r\n",
    "        Yazilimci.soyisim = soyisim\r\n",
    "        Yazilimci.numara = numara\r\n",
    "        Yazilimci.maas = maas\r\n",
    "        Yazilimci.diller = diller"
   ],
   "outputs": [],
   "metadata": {}
  },
  {
   "cell_type": "code",
   "execution_count": 7,
   "source": [
    "yazilimci1 = Yazilimci(isim = \"Taha\", soyisim=\"Doğan\", numara=16, maas = 4000, diller = (\"C#, Python, SQL, Java, İngilizce\"))\r\n",
    "\r\n"
   ],
   "outputs": [],
   "metadata": {}
  },
  {
   "cell_type": "code",
   "execution_count": 9,
   "source": [
    "print(\" İsim = {} \\n Soyisim = {}\\n Numara = {}\\n Maaş = {} \\n Diller = {}\".format(yazilimci1.isim,yazilimci1.soyisim,yazilimci1.numara,yazilimci1.maas,yazilimci1.diller))"
   ],
   "outputs": [
    {
     "output_type": "stream",
     "name": "stdout",
     "text": [
      " İsim = Taha \n",
      " Soyisim = Doğan\n",
      " Numara = 16\n",
      " Maaş = 4000 \n",
      " Diller = C#, Python, SQL, Java, İngilizce\n"
     ]
    }
   ],
   "metadata": {}
  },
  {
   "cell_type": "code",
   "execution_count": 17,
   "source": [
    "class Yazilimci():\r\n",
    "    def __init__(self, isim, soyisim, numara, maas, diller):\r\n",
    "        Yazilimci.isim = isim\r\n",
    "        Yazilimci.soyisim = soyisim\r\n",
    "        Yazilimci.numara = numara\r\n",
    "        Yazilimci.maas = maas\r\n",
    "        Yazilimci.diller = diller\r\n",
    "    \r\n",
    "    def bilgileriGoster(self):\r\n",
    "        print(\r\n",
    "            \"\"\"\r\n",
    "            ---Çalışan Bilgisi---\r\n",
    "            İsim : {}\r\n",
    "            Soyisim : {}\r\n",
    "            Şirket Numarası : {}\r\n",
    "            Maaş : {}\r\n",
    "            Diller : {}\r\n",
    "            \"\"\"\r\n",
    "        .format(self.isim, self.soyisim, self.numara, self.maas, self.diller))\r\n",
    "    \r\n",
    "    def dilEkle(self, eklenecekolandil):\r\n",
    "        self.diller.append(eklenecekolandil)\r\n",
    "        print(eklenecekolandil,\" dili eklendi.\")\r\n",
    "\r\n",
    "    def maasArttir(self,attirmamiktari):\r\n",
    "        self.maas += attirmamiktari\r\n",
    "        print(\"Maaş \", self.maas, \" olarak güncellendi.\" )\r\n",
    "\r\n",
    "    def maasAzalt(self,azaltmamiktari):\r\n",
    "        self.maas -= azaltmamiktari\r\n",
    "        print(\"Maaş \", self.maas, \" olarak güncellendi.\" )"
   ],
   "outputs": [],
   "metadata": {}
  },
  {
   "cell_type": "code",
   "execution_count": 21,
   "source": [
    "yazilimci1 = Yazilimci(isim = \"Aslı\", soyisim = \"Doğan\", numara = 117, maas = 2800, diller = (\"a,b,c,d\"))\r\n",
    "yazilimci1.maasArttir(300)\r\n",
    "yazilimci1.maasAzalt(100)\r\n",
    "yazilimci1.bilgileriGoster()"
   ],
   "outputs": [
    {
     "output_type": "stream",
     "name": "stdout",
     "text": [
      "Maaş  3100  olarak güncellendi.\n",
      "Maaş  3000  olarak güncellendi.\n",
      "\n",
      "            ---Çalışan Bilgisi---\n",
      "            İsim : Aslı\n",
      "            Soyisim : Doğan\n",
      "            Şirket Numarası : 117\n",
      "            Maaş : 3000\n",
      "            Diller : a,b,c,d\n",
      "            \n"
     ]
    }
   ],
   "metadata": {}
  },
  {
   "cell_type": "code",
   "execution_count": null,
   "source": [],
   "outputs": [],
   "metadata": {}
  }
 ],
 "metadata": {
  "orig_nbformat": 4,
  "language_info": {
   "name": "python",
   "version": "3.7.8",
   "mimetype": "text/x-python",
   "codemirror_mode": {
    "name": "ipython",
    "version": 3
   },
   "pygments_lexer": "ipython3",
   "nbconvert_exporter": "python",
   "file_extension": ".py"
  },
  "kernelspec": {
   "name": "python3",
   "display_name": "Python 3.7.8 64-bit"
  },
  "interpreter": {
   "hash": "57baa5815c940fdaff4d14510622de9616cae602444507ba5d0b6727c008cbd6"
  }
 },
 "nbformat": 4,
 "nbformat_minor": 2
}