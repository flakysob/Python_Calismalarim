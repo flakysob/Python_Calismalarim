{
 "cells": [
  {
   "cell_type": "code",
   "execution_count": 1,
   "source": [
    "class Araba():\r\n",
    "    model = \"BMW M8\" #Sınıf özellikleri(attributes)\r\n",
    "    renk = \"Estoril Mavisi\"\r\n",
    "    beygir_gucu = \"800hp\"\r\n",
    "    silindir = \"v8\""
   ],
   "outputs": [],
   "metadata": {}
  },
  {
   "cell_type": "code",
   "execution_count": 3,
   "source": [
    "araba1 = Araba()\r\n",
    "araba1"
   ],
   "outputs": [
    {
     "output_type": "execute_result",
     "data": {
      "text/plain": [
       "<__main__.Araba at 0x259838a98c8>"
      ]
     },
     "metadata": {},
     "execution_count": 3
    }
   ],
   "metadata": {}
  },
  {
   "cell_type": "code",
   "execution_count": 4,
   "source": [
    "type(araba1)"
   ],
   "outputs": [
    {
     "output_type": "execute_result",
     "data": {
      "text/plain": [
       "__main__.Araba"
      ]
     },
     "metadata": {},
     "execution_count": 4
    }
   ],
   "metadata": {}
  },
  {
   "cell_type": "code",
   "execution_count": 6,
   "source": [
    "print(araba1.model)\r\n",
    "print(araba1.beygir_gucu)"
   ],
   "outputs": [
    {
     "output_type": "stream",
     "name": "stdout",
     "text": [
      "BMW M8\n",
      "800hp\n"
     ]
    }
   ],
   "metadata": {}
  },
  {
   "cell_type": "code",
   "execution_count": 7,
   "source": [
    "araba2 = Araba()\r\n"
   ],
   "outputs": [],
   "metadata": {}
  },
  {
   "cell_type": "code",
   "execution_count": 8,
   "source": [
    "araba2"
   ],
   "outputs": [
    {
     "output_type": "execute_result",
     "data": {
      "text/plain": [
       "<__main__.Araba at 0x259838c7bc8>"
      ]
     },
     "metadata": {},
     "execution_count": 8
    }
   ],
   "metadata": {}
  },
  {
   "cell_type": "code",
   "execution_count": 10,
   "source": [
    "Araba.model"
   ],
   "outputs": [
    {
     "output_type": "execute_result",
     "data": {
      "text/plain": [
       "'BMW M8'"
      ]
     },
     "metadata": {},
     "execution_count": 10
    }
   ],
   "metadata": {}
  },
  {
   "cell_type": "code",
   "execution_count": 11,
   "source": [
    "dir(araba1)"
   ],
   "outputs": [
    {
     "output_type": "execute_result",
     "data": {
      "text/plain": [
       "['__class__',\n",
       " '__delattr__',\n",
       " '__dict__',\n",
       " '__dir__',\n",
       " '__doc__',\n",
       " '__eq__',\n",
       " '__format__',\n",
       " '__ge__',\n",
       " '__getattribute__',\n",
       " '__gt__',\n",
       " '__hash__',\n",
       " '__init__',\n",
       " '__init_subclass__',\n",
       " '__le__',\n",
       " '__lt__',\n",
       " '__module__',\n",
       " '__ne__',\n",
       " '__new__',\n",
       " '__reduce__',\n",
       " '__reduce_ex__',\n",
       " '__repr__',\n",
       " '__setattr__',\n",
       " '__sizeof__',\n",
       " '__str__',\n",
       " '__subclasshook__',\n",
       " '__weakref__',\n",
       " 'beygir_gucu',\n",
       " 'model',\n",
       " 'renk',\n",
       " 'silindir']"
      ]
     },
     "metadata": {},
     "execution_count": 11
    }
   ],
   "metadata": {}
  },
  {
   "cell_type": "code",
   "execution_count": 12,
   "source": [
    "class Araba():\r\n",
    "    #şimdilik class özelliklerine ihtiyacımız yok\r\n",
    "\r\n",
    "    def _init_(self):\r\n",
    "        print(\"init fonksiyonu çağırıldı.\")"
   ],
   "outputs": [],
   "metadata": {}
  },
  {
   "cell_type": "code",
   "execution_count": 18,
   "source": [
    "araba3 = Araba() #işte tam burada _init_() fonksiyonu çağırılıyor\r\n"
   ],
   "outputs": [],
   "metadata": {}
  },
  {
   "cell_type": "code",
   "execution_count": 1,
   "source": [
    "class Araba():\r\n",
    "\r\n",
    "    def __init__(self,model,beygir_gucu,silindir,kapi_sayisi): #parametrelerin değerlerini objelerimizi oluştururken göndereceğiz\r\n",
    "        self.model = model #self.özellik_ismi = parametre değeri şeklinde objemizin model özelliğine değeri atıyoruz.\r\n",
    "        self.beygir_gucu = beygir_gucu\r\n",
    "        self.silindir = silindir\r\n",
    "        self.kapi_sayisi = kapi_sayisi"
   ],
   "outputs": [],
   "metadata": {}
  },
  {
   "cell_type": "code",
   "execution_count": 7,
   "source": [
    "#Artık değerlerimizi göndererek objelerimizin özelliklerini istediğimiz değerle başlatabiliriz.\r\n",
    "araba4 = Araba(\"Renault Symbol\",90,4,5) \r\n",
    "araba2 = Araba(\"Fiat Egea\", 90,4,5)"
   ],
   "outputs": [],
   "metadata": {}
  },
  {
   "cell_type": "code",
   "execution_count": 9,
   "source": [
    "print(araba4.model)\r\n",
    "print(araba2.model)"
   ],
   "outputs": [
    {
     "output_type": "stream",
     "name": "stdout",
     "text": [
      "Renault Symbol\n",
      "Fiat Egea\n"
     ]
    }
   ],
   "metadata": {}
  },
  {
   "cell_type": "code",
   "execution_count": 14,
   "source": [
    "class Car():\r\n",
    "\r\n",
    "    def __init__(self, model = \"Bilgi yok\", renk = \"Bilgi yok\", silindir = 4, beygir_gucu = 90):\r\n",
    "        self.model = model\r\n",
    "        self.renk = renk\r\n",
    "        self.silindir = silindir\r\n",
    "        self.beygir_gucu = beygir_gucu"
   ],
   "outputs": [],
   "metadata": {}
  },
  {
   "cell_type": "code",
   "execution_count": 21,
   "source": [
    "araba5 = Araba(model = \"Renault Taliant\", renk = \"Kahverengi\", beygir_gucu = 85) #parantez içerisinde virgüllerden sonra 1 boşluk bırak"
   ],
   "outputs": [],
   "metadata": {}
  },
  {
   "cell_type": "code",
   "execution_count": 22,
   "source": [
    "print(\" Model = {}\\n Renk = {}\\n Silindir Sayısı = {}\\n Beygir Gücü(hp) = {}\\n\".format(araba5.model,araba5.renk,araba5.silindir,araba5.beygir_gucu))"
   ],
   "outputs": [
    {
     "output_type": "stream",
     "name": "stdout",
     "text": [
      " Model = Renault Taliant\n",
      " Renk = Kahverengi\n",
      " Silindir Sayısı = 4\n",
      " Beygir Gücü(hp) = 85\n",
      "\n"
     ]
    }
   ],
   "metadata": {}
  },
  {
   "cell_type": "code",
   "execution_count": null,
   "source": [],
   "outputs": [],
   "metadata": {}
  }
 ],
 "metadata": {
  "orig_nbformat": 4,
  "language_info": {
   "name": "python",
   "version": "3.7.8",
   "mimetype": "text/x-python",
   "codemirror_mode": {
    "name": "ipython",
    "version": 3
   },
   "pygments_lexer": "ipython3",
   "nbconvert_exporter": "python",
   "file_extension": ".py"
  },
  "kernelspec": {
   "name": "python3",
   "display_name": "Python 3.7.8 64-bit"
  },
  "interpreter": {
   "hash": "57baa5815c940fdaff4d14510622de9616cae602444507ba5d0b6727c008cbd6"
  }
 },
 "nbformat": 4,
 "nbformat_minor": 2
}