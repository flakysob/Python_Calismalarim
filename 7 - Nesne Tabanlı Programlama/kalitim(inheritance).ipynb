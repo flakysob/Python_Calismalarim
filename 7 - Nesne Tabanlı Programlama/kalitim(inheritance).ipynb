{
 "cells": [
  {
   "cell_type": "code",
   "execution_count": 1,
   "source": [
    "class Calisan():\r\n",
    "    def __init__(self, isim, maas, departman):\r\n",
    "        Calisan.isim = isim\r\n",
    "        Calisan.maas = maas\r\n",
    "        Calisan.departman = departman\r\n",
    "\r\n",
    "    def bilgileriGoster(self):\r\n",
    "        print(\r\n",
    "            \"\"\"\r\n",
    "            ---Çalışan Bilgileri---\r\n",
    "            İsim : {}\r\n",
    "            Maaş : {}\r\n",
    "            Departman : {}\r\n",
    "\r\n",
    "            \"\"\".format(self.isim,self.maas,self.departman)\r\n",
    "        )\r\n",
    "    \r\n",
    "    def departmanDegistir(self,yenidepartman):\r\n",
    "        eskidepartman = self.departman\r\n",
    "        self.departman = yenidepartman\r\n",
    "        print(eskidepartman, \" olan departman bilgisi \",yenidepartman, \" olarak değiştirildi.\")"
   ],
   "outputs": [],
   "metadata": {}
  },
  {
   "cell_type": "code",
   "execution_count": 4,
   "source": [
    "i = input(\"İsim gir : \")\r\n",
    "m = input(\"Maaş gir : \")\r\n",
    "d = input(\"Hangi departman : \")\r\n",
    "\r\n",
    "isci1 = Calisan(i,m,d)\r\n",
    "Calisan.bilgileriGoster(isci1)"
   ],
   "outputs": [
    {
     "output_type": "stream",
     "name": "stdout",
     "text": [
      "\n",
      "            ---Çalışan Bilgileri---\n",
      "            İsim : Taha\n",
      "            Maaş : 5000\n",
      "            Departman : Yazılım\n",
      "\n",
      "            \n"
     ]
    }
   ],
   "metadata": {}
  },
  {
   "cell_type": "code",
   "execution_count": 5,
   "source": [
    "isci1.departmanDegistir(\"Amele\")"
   ],
   "outputs": [
    {
     "output_type": "stream",
     "name": "stdout",
     "text": [
      "Yazılım  olan departman bilgisi  Amele  olarak değiştirildi.\n"
     ]
    }
   ],
   "metadata": {}
  },
  {
   "cell_type": "code",
   "execution_count": 6,
   "source": [
    "#Yönetici sınıfını Calisan sınıfından türetiyoruz.\r\n",
    "class Yonetici(Calisan): #Yönetici sınıfı, Calisan sınıfından miras alıyor.\r\n",
    "    pass #Bir bloğu sonradan tanımlamak istedğimizde bu ifade kullanılır. \r\n"
   ],
   "outputs": [],
   "metadata": {}
  },
  {
   "cell_type": "code",
   "execution_count": 7,
   "source": [
    "dir(Yonetici)"
   ],
   "outputs": [
    {
     "output_type": "execute_result",
     "data": {
      "text/plain": [
       "['__class__',\n",
       " '__delattr__',\n",
       " '__dict__',\n",
       " '__dir__',\n",
       " '__doc__',\n",
       " '__eq__',\n",
       " '__format__',\n",
       " '__ge__',\n",
       " '__getattribute__',\n",
       " '__gt__',\n",
       " '__hash__',\n",
       " '__init__',\n",
       " '__init_subclass__',\n",
       " '__le__',\n",
       " '__lt__',\n",
       " '__module__',\n",
       " '__ne__',\n",
       " '__new__',\n",
       " '__reduce__',\n",
       " '__reduce_ex__',\n",
       " '__repr__',\n",
       " '__setattr__',\n",
       " '__sizeof__',\n",
       " '__str__',\n",
       " '__subclasshook__',\n",
       " '__weakref__',\n",
       " 'bilgileriGoster',\n",
       " 'departman',\n",
       " 'departmanDegistir',\n",
       " 'isim',\n",
       " 'maas']"
      ]
     },
     "metadata": {},
     "execution_count": 7
    }
   ],
   "metadata": {}
  },
  {
   "cell_type": "code",
   "execution_count": 23,
   "source": [
    "class Yonetici(Calisan):\r\n",
    "    def zam_yap(self,zam):\r\n",
    "        eskimaas = self.maas\r\n",
    "        self.maas = eskimaas + zam\r\n",
    "        print(eskimaas,\" olan maaş miktarı \", self.maas,\" olarak güncellendi.\")\r\n"
   ],
   "outputs": [],
   "metadata": {}
  },
  {
   "cell_type": "code",
   "execution_count": 24,
   "source": [
    "i = input(\"İsim gir : \")\r\n",
    "m = int(input(\"Maaş gir : \"))\r\n",
    "d = input(\"Hangi departman : \")\r\n",
    "\r\n",
    "yonetici1 = Yonetici(isim=i,maas=m,departman=d)\r\n",
    "yonetici1.bilgileriGoster()\r\n",
    "yonetici1.zam_yap(1000)\r\n",
    "yonetici1.bilgileriGoster()\r\n"
   ],
   "outputs": [
    {
     "output_type": "stream",
     "name": "stdout",
     "text": [
      "\n",
      "            ---Çalışan Bilgileri---\n",
      "            İsim : Alex\n",
      "            Maaş : 6000\n",
      "            Departman : Yönetim\n",
      "\n",
      "            \n",
      "6000  olan maaş miktarı  7000  olarak güncellendi.\n",
      "\n",
      "            ---Çalışan Bilgileri---\n",
      "            İsim : Alex\n",
      "            Maaş : 7000\n",
      "            Departman : Yönetim\n",
      "\n",
      "            \n"
     ]
    }
   ],
   "metadata": {}
  },
  {
   "cell_type": "code",
   "execution_count": null,
   "source": [],
   "outputs": [],
   "metadata": {}
  }
 ],
 "metadata": {
  "orig_nbformat": 4,
  "language_info": {
   "name": "python",
   "version": "3.7.8",
   "mimetype": "text/x-python",
   "codemirror_mode": {
    "name": "ipython",
    "version": 3
   },
   "pygments_lexer": "ipython3",
   "nbconvert_exporter": "python",
   "file_extension": ".py"
  },
  "kernelspec": {
   "name": "python3",
   "display_name": "Python 3.7.8 64-bit"
  },
  "interpreter": {
   "hash": "57baa5815c940fdaff4d14510622de9616cae602444507ba5d0b6727c008cbd6"
  }
 },
 "nbformat": 4,
 "nbformat_minor": 2
}