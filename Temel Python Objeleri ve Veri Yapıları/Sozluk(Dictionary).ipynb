{
 "cells": [
  {
   "cell_type": "code",
   "execution_count": null,
   "id": "c8294d56",
   "metadata": {},
   "outputs": [],
   "source": [
    "#Süslü parantez ve \":\" ile yerleşim yapalım\n",
    "sozluk1 = {\"sifir\":0 , \"bir\":1 , \"iki\":2 , \"uc\":3}\n",
    "sozluk1"
   ]
  },
  {
   "cell_type": "code",
   "execution_count": null,
   "id": "116b693d",
   "metadata": {},
   "outputs": [],
   "source": [
    "#Boş bir sözlük\n",
    "sozluk2 = {}\n",
    "#Aynı işlem dict() metodu ile de yapılır.\n",
    "sozluk2 = dict()\n",
    "sozluk2"
   ]
  },
  {
   "cell_type": "code",
   "execution_count": null,
   "id": "5c83d7ff",
   "metadata": {},
   "outputs": [],
   "source": [
    "#\"bir\" anahtarına karşılık gelen değeri buluyoruz.\n",
    "sozluk1[\"bir\"]"
   ]
  },
  {
   "cell_type": "code",
   "execution_count": null,
   "id": "e397d718",
   "metadata": {},
   "outputs": [],
   "source": [
    "sozluk1[\"uc\"]\n",
    "#Tahmin edilebileceği üzere olmayan bir anahtar girilir ise hata verecektir."
   ]
  },
  {
   "cell_type": "code",
   "execution_count": null,
   "id": "4c69e177",
   "metadata": {},
   "outputs": [],
   "source": [
    "a = {\"bir\":[1,2,3,4,5,6,7,8,9], \"iki\":[[1,4,9,16,25],[36]], \"uc\":[8,9,81] }\n",
    "a[\"iki\"]"
   ]
  },
  {
   "cell_type": "code",
   "execution_count": null,
   "id": "9a398fdf",
   "metadata": {},
   "outputs": [],
   "source": [
    "#İç içe listelerdeki gibi düşünülür ise:\n",
    "a[\"iki\"][0][2]"
   ]
  },
  {
   "cell_type": "code",
   "execution_count": null,
   "id": "4476019a",
   "metadata": {},
   "outputs": [],
   "source": [
    "#Değer eklemek için:\n",
    "a[\"uc\"] += [126]\n",
    "a[\"uc\"]"
   ]
  },
  {
   "cell_type": "code",
   "execution_count": null,
   "id": "4cddf20e",
   "metadata": {},
   "outputs": [],
   "source": [
    "#Dinamik olarak eleman da ekleyebiliriz:\n",
    "a[\"dort\"] = [4,12,15]\n",
    "a[\"dort\"]"
   ]
  },
  {
   "cell_type": "code",
   "execution_count": null,
   "id": "11a8fa84",
   "metadata": {},
   "outputs": [],
   "source": [
    "a"
   ]
  },
  {
   "cell_type": "code",
   "execution_count": null,
   "id": "c6aa45f7",
   "metadata": {},
   "outputs": [],
   "source": [
    "a[\"dort\"][1]"
   ]
  },
  {
   "cell_type": "code",
   "execution_count": 12,
   "id": "d3498ea0",
   "metadata": {},
   "outputs": [
    {
     "name": "stdout",
     "output_type": "stream",
     "text": [
      "kis 1\n"
     ]
    }
   ],
   "source": [
    "#İç içe sözlük\n",
    "a = { \"sayilar\":{\"bir\":1,\"iki\":2,\"uc\":3}, \"meyveler\":{\"kiraz\":\"yaz\", \"portakal\":\"kis\", \"erik\":\"yaz\"}}\n",
    "orange = a[\"meyveler\"][\"portakal\"]\n",
    "one = str(a[\"sayilar\"][\"bir\"])\n",
    "print(orange +\" \"+ one)"
   ]
  },
  {
   "cell_type": "code",
   "execution_count": 2,
   "id": "38997822",
   "metadata": {},
   "outputs": [],
   "source": [
    "yeni_sozluk = {\"bir\":1,\"iki\":2,\"uc\":3}"
   ]
  },
  {
   "cell_type": "code",
   "execution_count": 3,
   "id": "4b5d923e",
   "metadata": {},
   "outputs": [
    {
     "data": {
      "text/plain": [
       "dict_values([1, 2, 3])"
      ]
     },
     "execution_count": 3,
     "metadata": {},
     "output_type": "execute_result"
    }
   ],
   "source": [
    "#values() metodu sözlüğün değerlerini(Çıktılar) bir liste olarak döner\n",
    "yeni_sozluk.values()"
   ]
  },
  {
   "cell_type": "code",
   "execution_count": 4,
   "id": "3274feee",
   "metadata": {},
   "outputs": [
    {
     "data": {
      "text/plain": [
       "dict_keys(['bir', 'iki', 'uc'])"
      ]
     },
     "execution_count": 4,
     "metadata": {},
     "output_type": "execute_result"
    }
   ],
   "source": [
    "#keys() metodu sözlüğün anahtarlarını(girdiler) bir liste olarak döner\n",
    "yeni_sozluk.keys()"
   ]
  },
  {
   "cell_type": "code",
   "execution_count": 5,
   "id": "fdb3b665",
   "metadata": {},
   "outputs": [
    {
     "data": {
      "text/plain": [
       "dict_items([('bir', 1), ('iki', 2), ('uc', 3)])"
      ]
     },
     "execution_count": 5,
     "metadata": {},
     "output_type": "execute_result"
    }
   ],
   "source": [
    "#items() metodu sözlüğün değerlerini ve anahtarlarını(Çıktılar) bir liste içinde demet olarak döner\n",
    "yeni_sozluk.items()"
   ]
  },
  {
   "cell_type": "code",
   "execution_count": null,
   "id": "f45fed6e",
   "metadata": {},
   "outputs": [],
   "source": []
  }
 ],
 "metadata": {
  "kernelspec": {
   "display_name": "Python 3",
   "language": "python",
   "name": "python3"
  },
  "language_info": {
   "codemirror_mode": {
    "name": "ipython",
    "version": 3
   },
   "file_extension": ".py",
   "mimetype": "text/x-python",
   "name": "python",
   "nbconvert_exporter": "python",
   "pygments_lexer": "ipython3",
   "version": "3.8.8"
  }
 },
 "nbformat": 4,
 "nbformat_minor": 5
}
