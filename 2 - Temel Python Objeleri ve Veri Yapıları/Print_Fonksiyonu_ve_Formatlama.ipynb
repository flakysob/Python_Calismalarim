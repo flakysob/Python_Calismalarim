{
 "cells": [
  {
   "cell_type": "code",
   "execution_count": 1,
   "id": "c5e2934b",
   "metadata": {},
   "outputs": [
    {
     "name": "stdout",
     "output_type": "stream",
     "text": [
      "35\n"
     ]
    }
   ],
   "source": [
    "print(35)"
   ]
  },
  {
   "cell_type": "code",
   "execution_count": 2,
   "id": "2fb0769f",
   "metadata": {},
   "outputs": [
    {
     "name": "stdout",
     "output_type": "stream",
     "text": [
      "3.14\n"
     ]
    }
   ],
   "source": [
    "print(3.14)\n"
   ]
  },
  {
   "cell_type": "code",
   "execution_count": 3,
   "id": "38830cec",
   "metadata": {},
   "outputs": [
    {
     "name": "stdout",
     "output_type": "stream",
     "text": [
      "19\n"
     ]
    }
   ],
   "source": [
    "a = 4\n",
    "b = 15\n",
    "print(a+b)\n"
   ]
  },
  {
   "cell_type": "code",
   "execution_count": 4,
   "id": "09df848a",
   "metadata": {},
   "outputs": [
    {
     "name": "stdout",
     "output_type": "stream",
     "text": [
      "Mustafa Murat Coşkun\n"
     ]
    }
   ],
   "source": [
    "print(\"Mustafa Murat Coşkun\")"
   ]
  },
  {
   "cell_type": "code",
   "execution_count": 5,
   "id": "71cefa01",
   "metadata": {},
   "outputs": [
    {
     "name": "stdout",
     "output_type": "stream",
     "text": [
      "Murat'ın bugün dersi var.\n"
     ]
    }
   ],
   "source": [
    "print(\"Murat'ın bugün dersi var.\")\n"
   ]
  },
  {
   "cell_type": "code",
   "execution_count": 6,
   "id": "4b91d7c6",
   "metadata": {},
   "outputs": [
    {
     "name": "stdout",
     "output_type": "stream",
     "text": [
      "Murat 12 545 66767 3.56\n"
     ]
    }
   ],
   "source": [
    "print(\"Murat\",12,545,66767,3.56)\n"
   ]
  },
  {
   "cell_type": "code",
   "execution_count": 7,
   "id": "89061d9a",
   "metadata": {},
   "outputs": [
    {
     "name": "stdout",
     "output_type": "stream",
     "text": [
      "Merhaba\n",
      "nasılsın\n",
      "iyimisin\n"
     ]
    }
   ],
   "source": [
    "print(\"Merhaba\\nnasılsın\\niyimisin\")"
   ]
  },
  {
   "cell_type": "code",
   "execution_count": 8,
   "id": "0c025a12",
   "metadata": {},
   "outputs": [
    {
     "name": "stdout",
     "output_type": "stream",
     "text": [
      "Ocak\tŞubat\tMart\n"
     ]
    }
   ],
   "source": [
    "print(\"Ocak\\tŞubat\\tMart\")"
   ]
  },
  {
   "cell_type": "code",
   "execution_count": 9,
   "id": "ebc1b81d",
   "metadata": {},
   "outputs": [
    {
     "name": "stdout",
     "output_type": "stream",
     "text": [
      "a\t\t\t\t\t\tb\n"
     ]
    }
   ],
   "source": [
    "print(\"a\\t\\t\\t\\t\\t\\tb\")"
   ]
  },
  {
   "cell_type": "code",
   "execution_count": 10,
   "id": "cb3b09cf",
   "metadata": {},
   "outputs": [
    {
     "name": "stdout",
     "output_type": "stream",
     "text": [
      "<class 'int'>\n"
     ]
    }
   ],
   "source": [
    "a = 30\n",
    "print(type(a))"
   ]
  },
  {
   "cell_type": "code",
   "execution_count": 11,
   "id": "6f715741",
   "metadata": {},
   "outputs": [
    {
     "name": "stdout",
     "output_type": "stream",
     "text": [
      "<class 'float'>\n"
     ]
    }
   ],
   "source": [
    "b = 5.87\n",
    "print(type(b))"
   ]
  },
  {
   "cell_type": "code",
   "execution_count": 12,
   "id": "2474e1b8",
   "metadata": {},
   "outputs": [
    {
     "name": "stdout",
     "output_type": "stream",
     "text": [
      "<class 'str'>\n"
     ]
    }
   ],
   "source": [
    "c = \"Murat\"\n",
    "print(type(c))"
   ]
  },
  {
   "cell_type": "code",
   "execution_count": 13,
   "id": "4f424b70",
   "metadata": {},
   "outputs": [
    {
     "name": "stdout",
     "output_type": "stream",
     "text": [
      "2 3 4 5 6 7 8\n"
     ]
    }
   ],
   "source": [
    "print(2,3,4,5,6,7,8)"
   ]
  },
  {
   "cell_type": "code",
   "execution_count": 14,
   "id": "36a36853",
   "metadata": {},
   "outputs": [
    {
     "name": "stdout",
     "output_type": "stream",
     "text": [
      "2-3-4-5-6-7-8\n"
     ]
    }
   ],
   "source": [
    "print(2,3,4,5,6,7,8,sep=\"-\")"
   ]
  },
  {
   "cell_type": "code",
   "execution_count": 15,
   "id": "3142d86d",
   "metadata": {},
   "outputs": [
    {
     "name": "stdout",
     "output_type": "stream",
     "text": [
      "2.3.4.5.6.7.8\n"
     ]
    }
   ],
   "source": [
    "print(2,3,4,5,6,7,8,sep=\".\")"
   ]
  },
  {
   "cell_type": "code",
   "execution_count": 16,
   "id": "2f55f26f",
   "metadata": {},
   "outputs": [
    {
     "name": "stdout",
     "output_type": "stream",
     "text": [
      "2103104105106107108\n"
     ]
    }
   ],
   "source": [
    "print(2,3,4,5,6,7,8,sep=\"10\")"
   ]
  },
  {
   "cell_type": "code",
   "execution_count": 18,
   "id": "55c84af9",
   "metadata": {},
   "outputs": [
    {
     "name": "stdout",
     "output_type": "stream",
     "text": [
      "2*3*4*5*6*7*8\n"
     ]
    }
   ],
   "source": [
    "print(2,3,4,5,6,7,8, sep=\"*\")"
   ]
  },
  {
   "cell_type": "code",
   "execution_count": 19,
   "id": "dd9c5536",
   "metadata": {},
   "outputs": [
    {
     "name": "stdout",
     "output_type": "stream",
     "text": [
      "H e l l o\n"
     ]
    }
   ],
   "source": [
    "print(*\"Hello\")"
   ]
  },
  {
   "cell_type": "code",
   "execution_count": 20,
   "id": "e1d483f5",
   "metadata": {},
   "outputs": [
    {
     "name": "stdout",
     "output_type": "stream",
     "text": [
      "H\n",
      "e\n",
      "l\n",
      "l\n",
      "o\n"
     ]
    }
   ],
   "source": [
    "print(*\"Hello\",sep=\"\\n\")"
   ]
  },
  {
   "cell_type": "code",
   "execution_count": 21,
   "id": "8364a0c5",
   "metadata": {},
   "outputs": [
    {
     "data": {
      "text/plain": [
       "'5.5342346.65437.67543'"
      ]
     },
     "execution_count": 21,
     "metadata": {},
     "output_type": "execute_result"
    }
   ],
   "source": [
    "\"{}{}{}\".format(5.534234,6.6543,7.67543)"
   ]
  },
  {
   "cell_type": "code",
   "execution_count": 22,
   "id": "16718c2f",
   "metadata": {},
   "outputs": [
    {
     "name": "stdout",
     "output_type": "stream",
     "text": [
      "10 ile 20 değerlerinin toplamı = 30\n"
     ]
    }
   ],
   "source": [
    "a = 10\n",
    "b = 20\n",
    "print(\"{} ile {} değerlerinin toplamı = {}\".format(a,b,a+b))"
   ]
  },
  {
   "cell_type": "code",
   "execution_count": 3,
   "id": "fe5b4665",
   "metadata": {},
   "outputs": [
    {
     "data": {
      "text/plain": [
       "'3.15   7.645   8.9415'"
      ]
     },
     "execution_count": 3,
     "metadata": {},
     "output_type": "execute_result"
    }
   ],
   "source": [
    "#Diyelim ki bir ondalıklı sayının bazı kısımlarını almak istiyoruz. Bunun için aşağıdaki gibi bir kullanım gereklidir.\n",
    "\"{:.2f}   {:.3f}   {:.4f}\".format(3.145695,7.644842,8.94154854)"
   ]
  },
  {
   "cell_type": "code",
   "execution_count": null,
   "id": "902fd6f3",
   "metadata": {},
   "outputs": [],
   "source": []
  }
 ],
 "metadata": {
  "kernelspec": {
   "display_name": "Python 3",
   "language": "python",
   "name": "python3"
  },
  "language_info": {
   "codemirror_mode": {
    "name": "ipython",
    "version": 3
   },
   "file_extension": ".py",
   "mimetype": "text/x-python",
   "name": "python",
   "nbconvert_exporter": "python",
   "pygments_lexer": "ipython3",
   "version": "3.8.8"
  }
 },
 "nbformat": 4,
 "nbformat_minor": 5
}
