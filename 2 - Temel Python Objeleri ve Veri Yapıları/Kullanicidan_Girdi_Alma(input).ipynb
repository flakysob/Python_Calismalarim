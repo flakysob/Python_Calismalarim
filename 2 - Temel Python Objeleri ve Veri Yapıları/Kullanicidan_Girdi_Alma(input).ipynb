{
 "cells": [
  {
   "cell_type": "code",
   "execution_count": 1,
   "id": "9e5afd6f",
   "metadata": {},
   "outputs": [
    {
     "name": "stdout",
     "output_type": "stream",
     "text": [
      "hebele hübele\n"
     ]
    },
    {
     "data": {
      "text/plain": [
       "'hebele hübele'"
      ]
     },
     "execution_count": 1,
     "metadata": {},
     "output_type": "execute_result"
    }
   ],
   "source": [
    "#Fonksiyon çalıştıktan sonra program bizden bir girdi bekler\n",
    "input()"
   ]
  },
  {
   "cell_type": "code",
   "execution_count": 2,
   "id": "e97c3856",
   "metadata": {},
   "outputs": [
    {
     "name": "stdout",
     "output_type": "stream",
     "text": [
      "Lütfen bir sayı giriniz : 25\n"
     ]
    },
    {
     "data": {
      "text/plain": [
       "'25'"
      ]
     },
     "execution_count": 2,
     "metadata": {},
     "output_type": "execute_result"
    }
   ],
   "source": [
    "input(\"Lütfen bir sayı giriniz : \")"
   ]
  },
  {
   "cell_type": "code",
   "execution_count": 7,
   "id": "d30e87c2",
   "metadata": {},
   "outputs": [
    {
     "name": "stdout",
     "output_type": "stream",
     "text": [
      "İsminiz ? Deneme\n",
      "Deneme ...\n"
     ]
    }
   ],
   "source": [
    "a = input(\"İsminiz ? \")\n",
    "print(a + \" ...\")"
   ]
  },
  {
   "cell_type": "code",
   "execution_count": 8,
   "id": "be763613",
   "metadata": {},
   "outputs": [
    {
     "name": "stdout",
     "output_type": "stream",
     "text": [
      "Bir sayı girin : 25\n",
      "<class 'str'>\n"
     ]
    }
   ],
   "source": [
    "a = input(\"Bir sayı girin : \")\n",
    "print(type(a))"
   ]
  },
  {
   "cell_type": "code",
   "execution_count": 9,
   "id": "55801438",
   "metadata": {},
   "outputs": [
    {
     "name": "stdout",
     "output_type": "stream",
     "text": [
      "Bir sayı girin : 10\n",
      "101010\n"
     ]
    }
   ],
   "source": [
    "#Hatalı çalışma\n",
    "a = input(\"Bir sayı girin : \")\n",
    "print(a*3)"
   ]
  },
  {
   "cell_type": "code",
   "execution_count": 10,
   "id": "1ee68753",
   "metadata": {},
   "outputs": [
    {
     "name": "stdout",
     "output_type": "stream",
     "text": [
      "Bir sayı girin : 10\n",
      "30\n"
     ]
    }
   ],
   "source": [
    "#Doğru çalışma\n",
    "a = int(input(\"Bir sayı girin : \"))\n",
    "print(a*3)\n"
   ]
  },
  {
   "cell_type": "code",
   "execution_count": null,
   "id": "b613daa0",
   "metadata": {},
   "outputs": [],
   "source": []
  }
 ],
 "metadata": {
  "kernelspec": {
   "display_name": "Python 3",
   "language": "python",
   "name": "python3"
  },
  "language_info": {
   "codemirror_mode": {
    "name": "ipython",
    "version": 3
   },
   "file_extension": ".py",
   "mimetype": "text/x-python",
   "name": "python",
   "nbconvert_exporter": "python",
   "pygments_lexer": "ipython3",
   "version": "3.8.8"
  }
 },
 "nbformat": 4,
 "nbformat_minor": 5
}
