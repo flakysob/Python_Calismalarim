{
 "cells": [
  {
   "cell_type": "code",
   "execution_count": 11,
   "source": [
    "import time\r\n",
    "\r\n",
    "def kareleri_hesapla(sayilar):\r\n",
    "    sonuc = []\r\n",
    "    baslama = time.time()\r\n",
    "\r\n",
    "    for i in sayilar:\r\n",
    "        sonuc.append(i ** 2)\r\n",
    "    print(\"bu fonksiyon \"+str(time.time()-baslama)+\" saniye sürdü\")\r\n",
    "\r\n",
    "def kupleri_hesapla(sayilar):\r\n",
    "    sonuc = []\r\n",
    "    baslama = time.time()\r\n",
    "    for i in sayilar:\r\n",
    "        sonuc.append(i ** 3)\r\n",
    "    print(\"bu fonksiyon \"+str(time.time()-baslama)+\" saniye sürdü\")\r\n",
    "\r\n",
    "kupleri_hesapla(range(100000000))\r\n",
    "kareleri_hesapla(range(100000000))"
   ],
   "outputs": [
    {
     "output_type": "stream",
     "name": "stdout",
     "text": [
      "bu fonksiyon 36.446935176849365 saniye sürdü\n",
      "bu fonksiyon 29.29189944267273 saniye sürdü\n"
     ]
    }
   ],
   "metadata": {}
  },
  {
   "cell_type": "code",
   "execution_count": null,
   "source": [],
   "outputs": [],
   "metadata": {}
  }
 ],
 "metadata": {
  "orig_nbformat": 4,
  "language_info": {
   "name": "python",
   "version": "3.9.5",
   "mimetype": "text/x-python",
   "codemirror_mode": {
    "name": "ipython",
    "version": 3
   },
   "pygments_lexer": "ipython3",
   "nbconvert_exporter": "python",
   "file_extension": ".py"
  },
  "kernelspec": {
   "name": "python3",
   "display_name": "Python 3.9.5 64-bit"
  },
  "interpreter": {
   "hash": "69660cda8993c92853e7b170e580d69349f23c40d11886f023df74701d13ff2f"
  }
 },
 "nbformat": 4,
 "nbformat_minor": 2
}