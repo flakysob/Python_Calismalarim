{
 "cells": [
  {
   "cell_type": "code",
   "execution_count": 1,
   "source": [
    "def anafonksiyon(islem_adi):\r\n",
    "    def toplama(*args):\r\n",
    "        toplam=0\r\n",
    "        for i in args:\r\n",
    "            toplam += i\r\n",
    "        return toplam\r\n",
    "    \r\n",
    "    def carpma(*args):\r\n",
    "        carpim = 1\r\n",
    "        for i in args:\r\n",
    "            carpim *= i\r\n",
    "        return carpim\r\n",
    "    \r\n",
    "    if(islem_adi == \"t\"):\r\n",
    "        return toplama #burada fonksiyonların adını verdik\r\n",
    "    else:\r\n",
    "        return carpma #burada fonksiyonların adını verdik"
   ],
   "outputs": [],
   "metadata": {}
  },
  {
   "cell_type": "code",
   "execution_count": 2,
   "source": [
    "fonk = anafonksiyon(\"t\")"
   ],
   "outputs": [],
   "metadata": {}
  },
  {
   "cell_type": "code",
   "execution_count": 3,
   "source": [
    "fonk\r\n",
    "#görüldüğü gibi toplama döndürdü"
   ],
   "outputs": [
    {
     "output_type": "execute_result",
     "data": {
      "text/plain": [
       "<function __main__.anafonksiyon.<locals>.toplama(*args)>"
      ]
     },
     "metadata": {},
     "execution_count": 3
    }
   ],
   "metadata": {}
  },
  {
   "cell_type": "code",
   "execution_count": 4,
   "source": [
    "#şimdi return ile atanılan değişken aracılığı ile argümanları fonksiyon içerisine gönderiyoruz\r\n",
    "fonk(1,2,3,4,5)"
   ],
   "outputs": [
    {
     "output_type": "execute_result",
     "data": {
      "text/plain": [
       "15"
      ]
     },
     "metadata": {},
     "execution_count": 4
    }
   ],
   "metadata": {}
  },
  {
   "cell_type": "code",
   "execution_count": 5,
   "source": [
    "fonk2=anafonksiyon(\"rastgele bir değer\")"
   ],
   "outputs": [],
   "metadata": {}
  },
  {
   "cell_type": "code",
   "execution_count": 6,
   "source": [
    "fonk2(1,2,3,4,5,6)"
   ],
   "outputs": [
    {
     "output_type": "execute_result",
     "data": {
      "text/plain": [
       "720"
      ]
     },
     "metadata": {},
     "execution_count": 6
    }
   ],
   "metadata": {}
  },
  {
   "cell_type": "code",
   "execution_count": 7,
   "source": [
    "#Argüman olarak göndermek\r\n",
    "def toplama(a,b):\r\n",
    "    return a+b\r\n",
    "def cikarma(a,b):\r\n",
    "    return a-b\r\n",
    "def carpma(a,b):\r\n",
    "    return a*b\r\n",
    "def bolme(a,b):\r\n",
    "    return a/b"
   ],
   "outputs": [],
   "metadata": {}
  },
  {
   "cell_type": "code",
   "execution_count": 8,
   "source": [
    "def anafonksiyon(f1,f2,f3,f4,islemadi):\r\n",
    "    if(islemadi==1):\r\n",
    "        print(f1(3,4))\r\n",
    "    elif(islemadi==2):\r\n",
    "        print(f2(3,4)) \r\n",
    "    elif(islemadi==3):\r\n",
    "        print(f3(3,4))\r\n",
    "    elif(islemadi==4):\r\n",
    "        print(f4(3,4))\r\n",
    "    else:\r\n",
    "        print(\"Geçersiz işlem\")"
   ],
   "outputs": [],
   "metadata": {}
  },
  {
   "cell_type": "code",
   "execution_count": 9,
   "source": [
    "anafonksiyon(toplama,cikarma,carpma,bolme,3)"
   ],
   "outputs": [
    {
     "output_type": "stream",
     "name": "stdout",
     "text": [
      "12\n"
     ]
    }
   ],
   "metadata": {}
  },
  {
   "cell_type": "code",
   "execution_count": null,
   "source": [],
   "outputs": [],
   "metadata": {}
  }
 ],
 "metadata": {
  "orig_nbformat": 4,
  "language_info": {
   "name": "python",
   "version": "3.9.5",
   "mimetype": "text/x-python",
   "codemirror_mode": {
    "name": "ipython",
    "version": 3
   },
   "pygments_lexer": "ipython3",
   "nbconvert_exporter": "python",
   "file_extension": ".py"
  },
  "kernelspec": {
   "name": "python3",
   "display_name": "Python 3.9.5 64-bit"
  },
  "interpreter": {
   "hash": "69660cda8993c92853e7b170e580d69349f23c40d11886f023df74701d13ff2f"
  }
 },
 "nbformat": 4,
 "nbformat_minor": 2
}