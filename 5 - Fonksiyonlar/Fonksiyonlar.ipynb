{
 "cells": [
  {
   "cell_type": "code",
   "execution_count": 2,
   "id": "47f826cf",
   "metadata": {},
   "outputs": [],
   "source": [
    "def selamla():\n",
    "    print(\"Selamlar!\")\n",
    "    print(\"Nasılsınız?\")"
   ]
  },
  {
   "cell_type": "code",
   "execution_count": 3,
   "id": "77f7387a",
   "metadata": {},
   "outputs": [
    {
     "name": "stdout",
     "output_type": "stream",
     "text": [
      "Selamlar!\n",
      "Nasılsınız?\n"
     ]
    }
   ],
   "source": [
    "selamla()"
   ]
  },
  {
   "cell_type": "code",
   "execution_count": 5,
   "id": "0b603035",
   "metadata": {},
   "outputs": [
    {
     "name": "stdout",
     "output_type": "stream",
     "text": [
      "Selamlar!\n",
      "Nasılsınız?\n",
      "Selamlar!\n",
      "Nasılsınız?\n",
      "Selamlar!\n",
      "Nasılsınız?\n"
     ]
    }
   ],
   "source": [
    "selamla()\n",
    "selamla()\n",
    "selamla()"
   ]
  },
  {
   "cell_type": "code",
   "execution_count": 6,
   "id": "69ec5b98",
   "metadata": {},
   "outputs": [
    {
     "name": "stdout",
     "output_type": "stream",
     "text": [
      "Merhaba Taha\n"
     ]
    }
   ],
   "source": [
    "def selamla(isim):\n",
    "    print(\"Merhaba\", isim)\n",
    "    \n",
    "selamla(\"Taha\")"
   ]
  },
  {
   "cell_type": "code",
   "execution_count": 7,
   "id": "09b34fcc",
   "metadata": {},
   "outputs": [
    {
     "name": "stdout",
     "output_type": "stream",
     "text": [
      "Merhaba Aslı\n"
     ]
    }
   ],
   "source": [
    "selamla(\"Aslı\")"
   ]
  },
  {
   "cell_type": "code",
   "execution_count": 8,
   "id": "292603fc",
   "metadata": {},
   "outputs": [],
   "source": [
    "def toplama(a,b,c):\n",
    "    print(\"Toplamları = \", a+b+c)"
   ]
  },
  {
   "cell_type": "code",
   "execution_count": 9,
   "id": "058b8df2",
   "metadata": {},
   "outputs": [
    {
     "name": "stdout",
     "output_type": "stream",
     "text": [
      "Toplamları =  6\n"
     ]
    }
   ],
   "source": [
    "toplama(2,2,2)"
   ]
  },
  {
   "cell_type": "code",
   "execution_count": 10,
   "id": "68f8a56a",
   "metadata": {},
   "outputs": [
    {
     "name": "stdout",
     "output_type": "stream",
     "text": [
      "Toplamları =  12\n"
     ]
    }
   ],
   "source": [
    "toplama(2,4,6)"
   ]
  },
  {
   "cell_type": "code",
   "execution_count": 11,
   "id": "293d19f8",
   "metadata": {},
   "outputs": [
    {
     "name": "stdout",
     "output_type": "stream",
     "text": [
      "Toplamları =  15\n"
     ]
    }
   ],
   "source": [
    "toplama(5,5,5)"
   ]
  },
  {
   "cell_type": "code",
   "execution_count": 12,
   "id": "438f2438",
   "metadata": {},
   "outputs": [],
   "source": [
    "def faktoriyel(sayi):\n",
    "    fakt = 1\n",
    "    if (sayi==0 or sayi == 1):\n",
    "        print(\"Faktöriyeli \", fakt)\n",
    "    else:\n",
    "        while(sayi>=1):\n",
    "            fakt *= sayi\n",
    "            sayi -= 1\n",
    "        print(\"Faktöriyeli \", fakt)"
   ]
  },
  {
   "cell_type": "code",
   "execution_count": 13,
   "id": "cc11dd7e",
   "metadata": {},
   "outputs": [
    {
     "name": "stdout",
     "output_type": "stream",
     "text": [
      "Faktöriyeli  720\n"
     ]
    }
   ],
   "source": [
    "faktoriyel(6)"
   ]
  },
  {
   "cell_type": "code",
   "execution_count": 14,
   "id": "88a71db8",
   "metadata": {},
   "outputs": [
    {
     "name": "stdout",
     "output_type": "stream",
     "text": [
      "Faktöriyeli  1\n"
     ]
    }
   ],
   "source": [
    "faktoriyel(0)"
   ]
  },
  {
   "cell_type": "code",
   "execution_count": 15,
   "id": "82e3060e",
   "metadata": {},
   "outputs": [
    {
     "name": "stdout",
     "output_type": "stream",
     "text": [
      "Faktöriyeli  1\n"
     ]
    }
   ],
   "source": [
    "faktoriyel(1)"
   ]
  },
  {
   "cell_type": "code",
   "execution_count": null,
   "id": "718e7277",
   "metadata": {},
   "outputs": [],
   "source": []
  }
 ],
 "metadata": {
  "kernelspec": {
   "display_name": "Python 3",
   "language": "python",
   "name": "python3"
  },
  "language_info": {
   "codemirror_mode": {
    "name": "ipython",
    "version": 3
   },
   "file_extension": ".py",
   "mimetype": "text/x-python",
   "name": "python",
   "nbconvert_exporter": "python",
   "pygments_lexer": "ipython3",
   "version": "3.8.8"
  }
 },
 "nbformat": 4,
 "nbformat_minor": 5
}
