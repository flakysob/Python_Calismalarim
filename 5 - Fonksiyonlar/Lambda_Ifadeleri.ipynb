{
 "cells": [
  {
   "cell_type": "code",
   "execution_count": 1,
   "id": "88f78166",
   "metadata": {},
   "outputs": [
    {
     "name": "stdout",
     "output_type": "stream",
     "text": [
      "4\n"
     ]
    }
   ],
   "source": [
    "def ikiylecarp(x):\n",
    "    return x*2\n",
    "\n",
    "print(ikiylecarp(2))"
   ]
  },
  {
   "cell_type": "code",
   "execution_count": 3,
   "id": "6594746d",
   "metadata": {},
   "outputs": [
    {
     "name": "stdout",
     "output_type": "stream",
     "text": [
      "8\n"
     ]
    }
   ],
   "source": [
    "#Yukarıdaki fonksiyonu lambda ifadeleri ile tek satırda yazabiliriz.\n",
    "ikiyecarp = lambda x : x*2\n",
    "# x, parametre\n",
    "# x*2, return ifadesi\n",
    "#ikiyecarp, etiket\n",
    "\n",
    "print(ikiyecarp(4))"
   ]
  },
  {
   "cell_type": "code",
   "execution_count": 4,
   "id": "b767de94",
   "metadata": {},
   "outputs": [
    {
     "name": "stdout",
     "output_type": "stream",
     "text": [
      "9\n"
     ]
    }
   ],
   "source": [
    "def toplama(a,b,c):\n",
    "    return a+b+c\n",
    "\n",
    "\n",
    "print(toplama(2,3,4))"
   ]
  },
  {
   "cell_type": "code",
   "execution_count": 5,
   "id": "2d6c7008",
   "metadata": {},
   "outputs": [],
   "source": [
    "toplama = lambda x,y,z : x+y+z"
   ]
  },
  {
   "cell_type": "code",
   "execution_count": 7,
   "id": "0710b48a",
   "metadata": {},
   "outputs": [
    {
     "name": "stdout",
     "output_type": "stream",
     "text": [
      "15\n"
     ]
    }
   ],
   "source": [
    "print(toplama(6,5,4))"
   ]
  },
  {
   "cell_type": "code",
   "execution_count": 9,
   "id": "7e1dbe74",
   "metadata": {},
   "outputs": [],
   "source": [
    "#stringi ters çeviren fonksiyon\n",
    "def terscevir(s):\n",
    "    return s[::-1]"
   ]
  },
  {
   "cell_type": "code",
   "execution_count": 10,
   "id": "b0e48a89",
   "metadata": {},
   "outputs": [
    {
     "name": "stdout",
     "output_type": "stream",
     "text": [
      "nağoD ahaT\n"
     ]
    }
   ],
   "source": [
    "print(terscevir(\"Taha Doğan\"))"
   ]
  },
  {
   "cell_type": "code",
   "execution_count": 14,
   "id": "69e14067",
   "metadata": {},
   "outputs": [],
   "source": [
    "tersine = lambda s: s[::-1]"
   ]
  },
  {
   "cell_type": "code",
   "execution_count": 15,
   "id": "d220208b",
   "metadata": {},
   "outputs": [
    {
     "name": "stdout",
     "output_type": "stream",
     "text": [
      "nağoD ahaT\n"
     ]
    }
   ],
   "source": [
    "print(tersine(\"Taha Doğan\"))"
   ]
  },
  {
   "cell_type": "code",
   "execution_count": 16,
   "id": "c0b64869",
   "metadata": {},
   "outputs": [],
   "source": [
    "#Çift mi\n",
    "def ciftmi(sayi):\n",
    "    if(sayi %2==0):\n",
    "        return \"Çifttir\"\n",
    "    else:\n",
    "        return \"Tektir\""
   ]
  },
  {
   "cell_type": "code",
   "execution_count": 18,
   "id": "950a1648",
   "metadata": {},
   "outputs": [
    {
     "name": "stdout",
     "output_type": "stream",
     "text": [
      "Bir sayı girin : 5\n",
      "Tektir\n"
     ]
    }
   ],
   "source": [
    "a = int(input(\"Bir sayı girin : \"))\n",
    "print(ciftmi(a))"
   ]
  },
  {
   "cell_type": "code",
   "execution_count": 19,
   "id": "71a4d147",
   "metadata": {},
   "outputs": [],
   "source": [
    "tekmi = lambda sayimiz : (sayimiz %2==0)"
   ]
  },
  {
   "cell_type": "code",
   "execution_count": 21,
   "id": "32db8a98",
   "metadata": {},
   "outputs": [
    {
     "name": "stdout",
     "output_type": "stream",
     "text": [
      "Bir sayı girin :5\n",
      "Sayı tektir.\n"
     ]
    }
   ],
   "source": [
    "i = int(input(\"Bir sayı girin :\"))\n",
    "a=tekmi(i)\n",
    "if(a==False):\n",
    "    print(\"Sayı tektir.\")\n",
    "else:\n",
    "    print(\"Sayı çifttir.\")"
   ]
  },
  {
   "cell_type": "code",
   "execution_count": null,
   "id": "c7420dd3",
   "metadata": {},
   "outputs": [],
   "source": []
  }
 ],
 "metadata": {
  "kernelspec": {
   "display_name": "Python 3",
   "language": "python",
   "name": "python3"
  },
  "language_info": {
   "codemirror_mode": {
    "name": "ipython",
    "version": 3
   },
   "file_extension": ".py",
   "mimetype": "text/x-python",
   "name": "python",
   "nbconvert_exporter": "python",
   "pygments_lexer": "ipython3",
   "version": "3.8.8"
  }
 },
 "nbformat": 4,
 "nbformat_minor": 5
}
