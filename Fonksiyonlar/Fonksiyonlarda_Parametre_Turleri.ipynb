{
 "cells": [
  {
   "cell_type": "code",
   "execution_count": 1,
   "id": "ddee77b9",
   "metadata": {},
   "outputs": [],
   "source": [
    "def selamla(isim):\n",
    "    print(\"selam \", isim)"
   ]
  },
  {
   "cell_type": "code",
   "execution_count": 2,
   "id": "0c041133",
   "metadata": {},
   "outputs": [
    {
     "name": "stdout",
     "output_type": "stream",
     "text": [
      "selam  Taha\n"
     ]
    }
   ],
   "source": [
    "selamla(\"Taha\")"
   ]
  },
  {
   "cell_type": "code",
   "execution_count": 3,
   "id": "c233657a",
   "metadata": {},
   "outputs": [
    {
     "ename": "TypeError",
     "evalue": "selamla() missing 1 required positional argument: 'isim'",
     "output_type": "error",
     "traceback": [
      "\u001b[1;31m---------------------------------------------------------------------------\u001b[0m",
      "\u001b[1;31mTypeError\u001b[0m                                 Traceback (most recent call last)",
      "\u001b[1;32m<ipython-input-3-5715dcd30bda>\u001b[0m in \u001b[0;36m<module>\u001b[1;34m\u001b[0m\n\u001b[1;32m----> 1\u001b[1;33m \u001b[0mselamla\u001b[0m\u001b[1;33m(\u001b[0m\u001b[1;33m)\u001b[0m \u001b[1;31m#Böyle bir kullanımda hata verecektir.\u001b[0m\u001b[1;33m\u001b[0m\u001b[1;33m\u001b[0m\u001b[0m\n\u001b[0m",
      "\u001b[1;31mTypeError\u001b[0m: selamla() missing 1 required positional argument: 'isim'"
     ]
    }
   ],
   "source": [
    "selamla() #Böyle bir kullanımda hata verecektir."
   ]
  },
  {
   "cell_type": "code",
   "execution_count": 4,
   "id": "69a1b5fb",
   "metadata": {},
   "outputs": [],
   "source": [
    "def selamla(isim = \"İsimsiz\"):\n",
    "    print(\"Selam \", isim)"
   ]
  },
  {
   "cell_type": "code",
   "execution_count": 5,
   "id": "034f2ef2",
   "metadata": {},
   "outputs": [
    {
     "name": "stdout",
     "output_type": "stream",
     "text": [
      "Selam  İsimsiz\n"
     ]
    }
   ],
   "source": [
    "selamla()"
   ]
  },
  {
   "cell_type": "code",
   "execution_count": 6,
   "id": "9b154203",
   "metadata": {},
   "outputs": [
    {
     "name": "stdout",
     "output_type": "stream",
     "text": [
      "Selam  Serhat\n"
     ]
    }
   ],
   "source": [
    "selamla(\"Serhat\") #Değer verirsek varsayılan değer yerine bizim verdiğimizi alır"
   ]
  },
  {
   "cell_type": "code",
   "execution_count": 10,
   "id": "1c330871",
   "metadata": {},
   "outputs": [],
   "source": [
    "def bilgilerigoster(ad=\"Bilgi Yok\", soyad=\"Bilgi Yok\", numara=\"Bilgi Yok\"):\n",
    "    print(\"Ad :\",ad ,\"Soyad :\", soyad, \"Numara :\",numara)"
   ]
  },
  {
   "cell_type": "code",
   "execution_count": 12,
   "id": "8800f7fb",
   "metadata": {},
   "outputs": [
    {
     "name": "stdout",
     "output_type": "stream",
     "text": [
      "Ad : Bilgi Yok Soyad : Bilgi Yok Numara : Bilgi Yok\n"
     ]
    }
   ],
   "source": [
    "bilgilerigoster()"
   ]
  },
  {
   "cell_type": "code",
   "execution_count": 11,
   "id": "e776b53f",
   "metadata": {},
   "outputs": [
    {
     "name": "stdout",
     "output_type": "stream",
     "text": [
      "Ad : Taha Soyad : Doğan Numara : Bilgi Yok\n"
     ]
    }
   ],
   "source": [
    "bilgilerigoster(\"Taha\",\"Doğan\")"
   ]
  },
  {
   "cell_type": "code",
   "execution_count": 15,
   "id": "d65735d0",
   "metadata": {},
   "outputs": [
    {
     "name": "stdout",
     "output_type": "stream",
     "text": [
      "Ad : Bilgi Yok Soyad : Bilgi Yok Numara : 427463\n"
     ]
    }
   ],
   "source": [
    "bilgilerigoster(numara=427463) #Sadece numara bilgisine sahipsek"
   ]
  },
  {
   "cell_type": "code",
   "execution_count": 16,
   "id": "193409c1",
   "metadata": {},
   "outputs": [
    {
     "name": "stdout",
     "output_type": "stream",
     "text": [
      "Ad : Taha XYZ Soyad : Bilgi Yok Numara : 15512\n"
     ]
    }
   ],
   "source": [
    "bilgilerigoster(ad=\"Taha XYZ\",numara=15512)"
   ]
  },
  {
   "cell_type": "code",
   "execution_count": 1,
   "id": "5dc054cf",
   "metadata": {},
   "outputs": [
    {
     "name": "stdout",
     "output_type": "stream",
     "text": [
      "Help on built-in function print in module builtins:\n",
      "\n",
      "print(...)\n",
      "    print(value, ..., sep=' ', end='\\n', file=sys.stdout, flush=False)\n",
      "    \n",
      "    Prints the values to a stream, or to sys.stdout by default.\n",
      "    Optional keyword arguments:\n",
      "    file:  a file-like object (stream); defaults to the current sys.stdout.\n",
      "    sep:   string inserted between values, default a space.\n",
      "    end:   string appended after the last value, default a newline.\n",
      "    flush: whether to forcibly flush the stream.\n",
      "\n"
     ]
    }
   ],
   "source": [
    "help(print)"
   ]
  },
  {
   "cell_type": "code",
   "execution_count": 4,
   "id": "acb6fb88",
   "metadata": {},
   "outputs": [],
   "source": [
    "def toplama(a,b,c):\n",
    "    print(a+b+c)"
   ]
  },
  {
   "cell_type": "code",
   "execution_count": 5,
   "id": "572c3e8e",
   "metadata": {},
   "outputs": [
    {
     "name": "stdout",
     "output_type": "stream",
     "text": [
      "12\n"
     ]
    }
   ],
   "source": [
    "toplama(3,4,5)"
   ]
  },
  {
   "cell_type": "code",
   "execution_count": 6,
   "id": "006817ac",
   "metadata": {},
   "outputs": [
    {
     "ename": "TypeError",
     "evalue": "toplama() missing 2 required positional arguments: 'b' and 'c'",
     "output_type": "error",
     "traceback": [
      "\u001b[1;31m---------------------------------------------------------------------------\u001b[0m",
      "\u001b[1;31mTypeError\u001b[0m                                 Traceback (most recent call last)",
      "\u001b[1;32m<ipython-input-6-8146e93acd21>\u001b[0m in \u001b[0;36m<module>\u001b[1;34m\u001b[0m\n\u001b[1;32m----> 1\u001b[1;33m \u001b[0mtoplama\u001b[0m\u001b[1;33m(\u001b[0m\u001b[1;36m3\u001b[0m\u001b[1;33m+\u001b[0m\u001b[1;36m4\u001b[0m\u001b[1;33m+\u001b[0m\u001b[1;36m5\u001b[0m\u001b[1;33m+\u001b[0m\u001b[1;36m6\u001b[0m\u001b[1;33m)\u001b[0m\u001b[1;33m\u001b[0m\u001b[1;33m\u001b[0m\u001b[0m\n\u001b[0m",
      "\u001b[1;31mTypeError\u001b[0m: toplama() missing 2 required positional arguments: 'b' and 'c'"
     ]
    }
   ],
   "source": [
    "toplama(3+4+5+6) #4 tane argüman veremeyiz"
   ]
  },
  {
   "cell_type": "code",
   "execution_count": 8,
   "id": "9e477282",
   "metadata": {},
   "outputs": [
    {
     "name": "stdout",
     "output_type": "stream",
     "text": [
      "18\n"
     ]
    }
   ],
   "source": [
    "def toplama(a,b,c,d):\n",
    "    print(a+b+c+d)\n",
    "\n",
    "toplama(3,4,5,6) #Görüldüğü gibi tekrardan tanımlama yapılması gerekir."
   ]
  },
  {
   "cell_type": "code",
   "execution_count": 9,
   "id": "2a0484e3",
   "metadata": {},
   "outputs": [],
   "source": [
    "def toplama(*parametreler):\n",
    "    toplam = 0\n",
    "    print(\"Parametreler : \", parametreler)\n",
    "    for i in parametreler:\n",
    "        toplam += i\n",
    "    return toplam"
   ]
  },
  {
   "cell_type": "code",
   "execution_count": 10,
   "id": "e4ae6f36",
   "metadata": {},
   "outputs": [
    {
     "name": "stdout",
     "output_type": "stream",
     "text": [
      "Parametreler :  (1, 2, 3, 4, 5)\n",
      "15\n"
     ]
    }
   ],
   "source": [
    "print(toplama(1,2,3,4,5,))"
   ]
  },
  {
   "cell_type": "code",
   "execution_count": 11,
   "id": "3a80f4c6",
   "metadata": {},
   "outputs": [
    {
     "name": "stdout",
     "output_type": "stream",
     "text": [
      "Parametreler :  ()\n",
      "0\n"
     ]
    }
   ],
   "source": [
    "print(toplama())"
   ]
  },
  {
   "cell_type": "code",
   "execution_count": 12,
   "id": "0accd823",
   "metadata": {},
   "outputs": [
    {
     "name": "stdout",
     "output_type": "stream",
     "text": [
      "Parametreler :  (2, 3, 4, 5)\n",
      "14\n"
     ]
    }
   ],
   "source": [
    "print(toplama(2,3,4,5))"
   ]
  },
  {
   "cell_type": "code",
   "execution_count": null,
   "id": "9d7d23a6",
   "metadata": {},
   "outputs": [],
   "source": []
  }
 ],
 "metadata": {
  "kernelspec": {
   "display_name": "Python 3",
   "language": "python",
   "name": "python3"
  },
  "language_info": {
   "codemirror_mode": {
    "name": "ipython",
    "version": 3
   },
   "file_extension": ".py",
   "mimetype": "text/x-python",
   "name": "python",
   "nbconvert_exporter": "python",
   "pygments_lexer": "ipython3",
   "version": "3.8.8"
  }
 },
 "nbformat": 4,
 "nbformat_minor": 5
}
