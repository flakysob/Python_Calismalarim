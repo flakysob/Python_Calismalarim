{
 "cells": [
  {
   "cell_type": "code",
   "execution_count": 2,
   "id": "bc0d4df9",
   "metadata": {},
   "outputs": [
    {
     "name": "stdout",
     "output_type": "stream",
     "text": [
      "if çalıştı\n"
     ]
    }
   ],
   "source": [
    "a = 2\n",
    "if(a==2):\n",
    "    print(\"if çalıştı\")"
   ]
  },
  {
   "cell_type": "code",
   "execution_count": 5,
   "id": "b60c2a23",
   "metadata": {},
   "outputs": [
    {
     "name": "stdout",
     "output_type": "stream",
     "text": [
      "Yaşınızı girin : 15\n",
      "Bu mekana giremezsiniz.\n"
     ]
    }
   ],
   "source": [
    "yas = int(input(\"Yaşınızı girin : \"))\n",
    "if(yas < 18):\n",
    "    print(\"Bu mekana giremezsiniz.\")"
   ]
  },
  {
   "cell_type": "code",
   "execution_count": 6,
   "id": "82040a90",
   "metadata": {},
   "outputs": [
    {
     "name": "stdout",
     "output_type": "stream",
     "text": [
      "Yaşınızı girin : 19\n",
      "Mekana hoşgeldiniz.\n"
     ]
    }
   ],
   "source": [
    "yas = int(input(\"Yaşınızı girin : \"))\n",
    "if(yas < 18):\n",
    "    print(\"Bu mekana giremezsiniz.\")\n",
    "else:\n",
    "    print(\"Mekana hoşgeldiniz.\")"
   ]
  },
  {
   "cell_type": "code",
   "execution_count": null,
   "id": "7716118e",
   "metadata": {},
   "outputs": [],
   "source": []
  }
 ],
 "metadata": {
  "kernelspec": {
   "display_name": "Python 3",
   "language": "python",
   "name": "python3"
  },
  "language_info": {
   "codemirror_mode": {
    "name": "ipython",
    "version": 3
   },
   "file_extension": ".py",
   "mimetype": "text/x-python",
   "name": "python",
   "nbconvert_exporter": "python",
   "pygments_lexer": "ipython3",
   "version": "3.8.8"
  }
 },
 "nbformat": 4,
 "nbformat_minor": 5
}
