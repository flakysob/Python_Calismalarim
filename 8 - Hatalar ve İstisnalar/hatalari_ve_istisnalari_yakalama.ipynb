{
 "cells": [
  {
   "cell_type": "code",
   "execution_count": 1,
   "source": [
    "a = int(\"dfshsdhf124613254213\")"
   ],
   "outputs": [
    {
     "output_type": "error",
     "ename": "ValueError",
     "evalue": "invalid literal for int() with base 10: 'dfshsdhf124613254213'",
     "traceback": [
      "\u001b[1;31m---------------------------------------------------------------------------\u001b[0m",
      "\u001b[1;31mValueError\u001b[0m                                Traceback (most recent call last)",
      "\u001b[1;32m<ipython-input-1-effd1682e1cf>\u001b[0m in \u001b[0;36m<module>\u001b[1;34m\u001b[0m\n\u001b[1;32m----> 1\u001b[1;33m \u001b[0ma\u001b[0m \u001b[1;33m=\u001b[0m \u001b[0mint\u001b[0m\u001b[1;33m(\u001b[0m\u001b[1;34m\"dfshsdhf124613254213\"\u001b[0m\u001b[1;33m)\u001b[0m\u001b[1;33m\u001b[0m\u001b[1;33m\u001b[0m\u001b[0m\n\u001b[0m",
      "\u001b[1;31mValueError\u001b[0m: invalid literal for int() with base 10: 'dfshsdhf124613254213'"
     ]
    }
   ],
   "metadata": {}
  },
  {
   "cell_type": "code",
   "execution_count": 2,
   "source": [
    "try:\r\n",
    "    a = int(\"dfshsdhf124613254213\")\r\n",
    "    print(\"Program burada\")\r\n",
    "except:\r\n",
    "    #ilk başta hiçbir hatayı belirtmiyoruz.\r\n",
    "    #eğer hatayı belirtmezsek oluşabilecek tüm hatalar except bloğuna gelir.\r\n",
    "    print(\"bir hata oluştu\")\r\n",
    "\r\n",
    "print(\"bloklar bitti\")"
   ],
   "outputs": [
    {
     "output_type": "stream",
     "name": "stdout",
     "text": [
      "bir hata oluştu\n",
      "bloklar bitti\n"
     ]
    }
   ],
   "metadata": {}
  },
  {
   "cell_type": "code",
   "execution_count": 3,
   "source": [
    "try:\r\n",
    "    a = int(\"23\")\r\n",
    "    print(\"Program burada\")\r\n",
    "except:\r\n",
    "    #ilk başta hiçbir hatayı belirtmiyoruz.\r\n",
    "    #eğer hatayı belirtmezsek oluşabilecek tüm hatalar except bloğuna gelir.\r\n",
    "    print(\"bir hata oluştu\")\r\n",
    "\r\n",
    "print(\"bloklar bitti\")"
   ],
   "outputs": [
    {
     "output_type": "stream",
     "name": "stdout",
     "text": [
      "Program burada\n",
      "bloklar bitti\n"
     ]
    }
   ],
   "metadata": {}
  },
  {
   "cell_type": "code",
   "execution_count": 4,
   "source": [
    "try:\r\n",
    "    a = int(\"dfshsdhf124613254213\")\r\n",
    "    print(\"Program burada\")\r\n",
    "except ValueError: #try bloğu içerisinde ValueError hatası var ise kodumuz bu except bloğu içerisine girecektir. Diğer durumlarda girmeyecektir.\r\n",
    "    print(\"bir hata oluştu\")\r\n",
    "\r\n",
    "print(\"bloklar bitti\")"
   ],
   "outputs": [
    {
     "output_type": "stream",
     "name": "stdout",
     "text": [
      "bir hata oluştu\n",
      "bloklar bitti\n"
     ]
    }
   ],
   "metadata": {}
  },
  {
   "cell_type": "code",
   "execution_count": 5,
   "source": [
    "#Şimdi ise 2 farklı hata çıkaran kod olsun\r\n",
    "x = int(\"sdfjhkshsdf43425432\")"
   ],
   "outputs": [
    {
     "output_type": "error",
     "ename": "ValueError",
     "evalue": "invalid literal for int() with base 10: 'sdfjhkshsdf43425432'",
     "traceback": [
      "\u001b[1;31m---------------------------------------------------------------------------\u001b[0m",
      "\u001b[1;31mValueError\u001b[0m                                Traceback (most recent call last)",
      "\u001b[1;32m<ipython-input-5-7c2f35847d69>\u001b[0m in \u001b[0;36m<module>\u001b[1;34m\u001b[0m\n\u001b[0;32m      1\u001b[0m \u001b[1;31m#Şimdi ise 2 farklı hata çıkaran kod olsun\u001b[0m\u001b[1;33m\u001b[0m\u001b[1;33m\u001b[0m\u001b[1;33m\u001b[0m\u001b[0m\n\u001b[1;32m----> 2\u001b[1;33m \u001b[0mx\u001b[0m \u001b[1;33m=\u001b[0m \u001b[0mint\u001b[0m\u001b[1;33m(\u001b[0m\u001b[1;34m\"sdfjhkshsdf43425432\"\u001b[0m\u001b[1;33m)\u001b[0m\u001b[1;33m\u001b[0m\u001b[1;33m\u001b[0m\u001b[0m\n\u001b[0m",
      "\u001b[1;31mValueError\u001b[0m: invalid literal for int() with base 10: 'sdfjhkshsdf43425432'"
     ]
    }
   ],
   "metadata": {}
  },
  {
   "cell_type": "code",
   "execution_count": 6,
   "source": [
    "print(2 / 0)"
   ],
   "outputs": [
    {
     "output_type": "error",
     "ename": "ZeroDivisionError",
     "evalue": "division by zero",
     "traceback": [
      "\u001b[1;31m---------------------------------------------------------------------------\u001b[0m",
      "\u001b[1;31mZeroDivisionError\u001b[0m                         Traceback (most recent call last)",
      "\u001b[1;32m<ipython-input-6-22134b536cbe>\u001b[0m in \u001b[0;36m<module>\u001b[1;34m\u001b[0m\n\u001b[1;32m----> 1\u001b[1;33m \u001b[0mprint\u001b[0m\u001b[1;33m(\u001b[0m\u001b[1;36m2\u001b[0m \u001b[1;33m/\u001b[0m \u001b[1;36m0\u001b[0m\u001b[1;33m)\u001b[0m\u001b[1;33m\u001b[0m\u001b[1;33m\u001b[0m\u001b[0m\n\u001b[0m",
      "\u001b[1;31mZeroDivisionError\u001b[0m: division by zero"
     ]
    }
   ],
   "metadata": {}
  },
  {
   "cell_type": "code",
   "execution_count": 7,
   "source": [
    "try:\r\n",
    "    a = int(input(\"Sayı 1 : \"))\r\n",
    "    b = int(input(\"Sayı 2 : \"))\r\n",
    "    print(a / b)\r\n",
    "except ValueError:\r\n",
    "    print(\"Lütfen sayı girişi yapın!\")\r\n",
    "except ZeroDivisionError:\r\n",
    "    print(\"Bir sayı sıfıra bölünemez.\")\r\n",
    "\r\n",
    "print(\"program sona erdi...\")\r\n",
    "#10 ve 0 girişi yapıldı"
   ],
   "outputs": [
    {
     "output_type": "stream",
     "name": "stdout",
     "text": [
      "Bir sayı sıfıra bölünemez.\n",
      "program sona erdi...\n"
     ]
    }
   ],
   "metadata": {}
  },
  {
   "cell_type": "code",
   "execution_count": 8,
   "source": [
    "try:\r\n",
    "    a = int(input(\"Sayı 1 : \"))\r\n",
    "    b = int(input(\"Sayı 2 : \"))\r\n",
    "    print(a / b)\r\n",
    "except (ValueError,ZeroDivisionError):\r\n",
    "    print(\"ZeroDivision veya ValueError hatası\")\r\n",
    "\r\n",
    "print(\"program sona erdi...\")\r\n",
    "#5 ve 0 girildi"
   ],
   "outputs": [
    {
     "output_type": "stream",
     "name": "stdout",
     "text": [
      "ZeroDivision veya ValueError hatası\n",
      "program sona erdi...\n"
     ]
    }
   ],
   "metadata": {}
  },
  {
   "cell_type": "code",
   "execution_count": 9,
   "source": [
    "try:\r\n",
    "    a = int(input(\"Sayı 1 : \"))\r\n",
    "    b = int(input(\"Sayı 2 : \"))\r\n",
    "    print(a / b)\r\n",
    "except ValueError:\r\n",
    "    print(\"Lütfen sayı girişi yapın!\")\r\n",
    "except ZeroDivisionError:\r\n",
    "    print(\"Bir sayı sıfıra bölünemez.\")\r\n",
    "finally:\r\n",
    "    print(\"finally bloğu çalıştı\")\r\n",
    "\r\n",
    "print(\"program sona erdi...\")\r\n",
    "#10 ve 0 girişi yapıldı"
   ],
   "outputs": [
    {
     "output_type": "stream",
     "name": "stdout",
     "text": [
      "Bir sayı sıfıra bölünemez.\n",
      "finally bloğu çalıştı\n",
      "program sona erdi...\n"
     ]
    }
   ],
   "metadata": {}
  },
  {
   "cell_type": "code",
   "execution_count": 11,
   "source": [
    "try:\r\n",
    "    a = int(input(\"Sayı 1 : \"))\r\n",
    "    b = int(input(\"Sayı 2 : \"))\r\n",
    "    print(a / b)\r\n",
    "except ValueError:\r\n",
    "    print(\"Lütfen sayı girişi yapın!\")\r\n",
    "except ZeroDivisionError:\r\n",
    "    print(\"Bir sayı sıfıra bölünemez.\")\r\n",
    "finally:\r\n",
    "    print(\"finally bloğu çalıştı\")\r\n",
    "\r\n",
    "print(\"program sona erdi...\")\r\n",
    "#4 ve 2 girişi yapıldı"
   ],
   "outputs": [
    {
     "output_type": "stream",
     "name": "stdout",
     "text": [
      "2.0\n",
      "finally bloğu çalıştı\n",
      "program sona erdi...\n"
     ]
    }
   ],
   "metadata": {}
  },
  {
   "cell_type": "code",
   "execution_count": 1,
   "source": [
    "#Verilen string ifadeyi ters çevirmek\r\n",
    "def terscevir(s):\r\n",
    "    if(type(s) != str):\r\n",
    "        raise ValueError(\"Lütfen string bir ifade girin.\")\r\n",
    "    else:\r\n",
    "        return s[::-1]"
   ],
   "outputs": [],
   "metadata": {}
  },
  {
   "cell_type": "code",
   "execution_count": 2,
   "source": [
    "print(terscevir(\"Python\"))"
   ],
   "outputs": [
    {
     "output_type": "stream",
     "name": "stdout",
     "text": [
      "nohtyP\n"
     ]
    }
   ],
   "metadata": {}
  },
  {
   "cell_type": "code",
   "execution_count": 3,
   "source": [
    "print(terscevir(352532))"
   ],
   "outputs": [
    {
     "output_type": "error",
     "ename": "ValueError",
     "evalue": "Lütfen string bir ifade girin.",
     "traceback": [
      "\u001b[1;31m---------------------------------------------------------------------------\u001b[0m",
      "\u001b[1;31mValueError\u001b[0m                                Traceback (most recent call last)",
      "\u001b[1;32m<ipython-input-3-fa19dc05cef4>\u001b[0m in \u001b[0;36m<module>\u001b[1;34m\u001b[0m\n\u001b[1;32m----> 1\u001b[1;33m \u001b[0mprint\u001b[0m\u001b[1;33m(\u001b[0m\u001b[0mterscevir\u001b[0m\u001b[1;33m(\u001b[0m\u001b[1;36m352532\u001b[0m\u001b[1;33m)\u001b[0m\u001b[1;33m)\u001b[0m\u001b[1;33m\u001b[0m\u001b[1;33m\u001b[0m\u001b[0m\n\u001b[0m",
      "\u001b[1;32m<ipython-input-1-50ecbbfec33c>\u001b[0m in \u001b[0;36mterscevir\u001b[1;34m(s)\u001b[0m\n\u001b[0;32m      2\u001b[0m \u001b[1;32mdef\u001b[0m \u001b[0mterscevir\u001b[0m\u001b[1;33m(\u001b[0m\u001b[0ms\u001b[0m\u001b[1;33m)\u001b[0m\u001b[1;33m:\u001b[0m\u001b[1;33m\u001b[0m\u001b[1;33m\u001b[0m\u001b[0m\n\u001b[0;32m      3\u001b[0m     \u001b[1;32mif\u001b[0m\u001b[1;33m(\u001b[0m\u001b[0mtype\u001b[0m\u001b[1;33m(\u001b[0m\u001b[0ms\u001b[0m\u001b[1;33m)\u001b[0m \u001b[1;33m!=\u001b[0m \u001b[0mstr\u001b[0m\u001b[1;33m)\u001b[0m\u001b[1;33m:\u001b[0m\u001b[1;33m\u001b[0m\u001b[1;33m\u001b[0m\u001b[0m\n\u001b[1;32m----> 4\u001b[1;33m         \u001b[1;32mraise\u001b[0m \u001b[0mValueError\u001b[0m\u001b[1;33m(\u001b[0m\u001b[1;34m\"Lütfen string bir ifade girin.\"\u001b[0m\u001b[1;33m)\u001b[0m\u001b[1;33m\u001b[0m\u001b[1;33m\u001b[0m\u001b[0m\n\u001b[0m\u001b[0;32m      5\u001b[0m     \u001b[1;32melse\u001b[0m\u001b[1;33m:\u001b[0m\u001b[1;33m\u001b[0m\u001b[1;33m\u001b[0m\u001b[0m\n\u001b[0;32m      6\u001b[0m         \u001b[1;32mreturn\u001b[0m \u001b[0ms\u001b[0m\u001b[1;33m[\u001b[0m\u001b[1;33m:\u001b[0m\u001b[1;33m:\u001b[0m\u001b[1;33m-\u001b[0m\u001b[1;36m1\u001b[0m\u001b[1;33m]\u001b[0m\u001b[1;33m\u001b[0m\u001b[1;33m\u001b[0m\u001b[0m\n",
      "\u001b[1;31mValueError\u001b[0m: Lütfen string bir ifade girin."
     ]
    }
   ],
   "metadata": {}
  },
  {
   "cell_type": "code",
   "execution_count": null,
   "source": [],
   "outputs": [],
   "metadata": {}
  }
 ],
 "metadata": {
  "orig_nbformat": 4,
  "language_info": {
   "name": "python",
   "version": "3.8.8",
   "mimetype": "text/x-python",
   "codemirror_mode": {
    "name": "ipython",
    "version": 3
   },
   "pygments_lexer": "ipython3",
   "nbconvert_exporter": "python",
   "file_extension": ".py"
  },
  "kernelspec": {
   "name": "python3",
   "display_name": "Python 3.8.8 64-bit ('base': conda)"
  },
  "interpreter": {
   "hash": "07efdcd4b820c98a756949507a4d29d7862823915ec7477944641bea022f4f62"
  }
 },
 "nbformat": 4,
 "nbformat_minor": 2
}