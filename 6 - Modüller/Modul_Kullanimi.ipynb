{
 "cells": [
  {
   "cell_type": "code",
   "execution_count": null,
   "id": "c6cd5260",
   "metadata": {
    "scrolled": true
   },
   "outputs": [],
   "source": [
    "#Yöntem 1 (import modül_adı)\n",
    "import math #modül içeri aktarıldı\n",
    "dir(math) #modül içerisindekiler gösterildi"
   ]
  },
  {
   "cell_type": "code",
   "execution_count": null,
   "id": "396ea6d2",
   "metadata": {},
   "outputs": [],
   "source": [
    "help(math) #modül içerisindeki fonksiyonların daha detaylı açıklaması görüntülenir"
   ]
  },
  {
   "cell_type": "code",
   "execution_count": null,
   "id": "f93efd91",
   "metadata": {},
   "outputs": [],
   "source": [
    "#Örneğin math modülünün factorial fonksiyonuna bakalım\n",
    "help(math.factorial)"
   ]
  },
  {
   "cell_type": "code",
   "execution_count": null,
   "id": "aa3a23fb",
   "metadata": {},
   "outputs": [],
   "source": [
    "math.factorial(5)"
   ]
  },
  {
   "cell_type": "code",
   "execution_count": null,
   "id": "03617a1d",
   "metadata": {},
   "outputs": [],
   "source": [
    "math.factorial(10)"
   ]
  },
  {
   "cell_type": "code",
   "execution_count": null,
   "id": "9fee31d6",
   "metadata": {},
   "outputs": [],
   "source": [
    "help(math.floor)"
   ]
  },
  {
   "cell_type": "code",
   "execution_count": null,
   "id": "6133d5b5",
   "metadata": {},
   "outputs": [],
   "source": [
    "math.floor(4.8374)"
   ]
  },
  {
   "cell_type": "code",
   "execution_count": null,
   "id": "eb2bc0f3",
   "metadata": {},
   "outputs": [],
   "source": [
    "math.floor(4.111000)"
   ]
  },
  {
   "cell_type": "code",
   "execution_count": null,
   "id": "fb8e61d1",
   "metadata": {},
   "outputs": [],
   "source": [
    "help(math.ceil)"
   ]
  },
  {
   "cell_type": "code",
   "execution_count": null,
   "id": "df094c6f",
   "metadata": {},
   "outputs": [],
   "source": [
    "math.ceil(9.00001)"
   ]
  },
  {
   "cell_type": "code",
   "execution_count": null,
   "id": "1a719188",
   "metadata": {},
   "outputs": [],
   "source": [
    "math.ceil(9.99999)"
   ]
  },
  {
   "cell_type": "code",
   "execution_count": null,
   "id": "da66a0fe",
   "metadata": {},
   "outputs": [],
   "source": [
    "import math as matematik\n",
    "matematik.factorial(4)"
   ]
  },
  {
   "cell_type": "code",
   "execution_count": null,
   "id": "8d92f612",
   "metadata": {},
   "outputs": [],
   "source": [
    "matematik.factorial(0)"
   ]
  },
  {
   "cell_type": "code",
   "execution_count": null,
   "id": "f7868d56",
   "metadata": {
    "scrolled": true
   },
   "outputs": [],
   "source": [
    "#Yöntem 2 (from modül_adı import*)\n",
    "from math import * #yıldızın anlamı modül içerisindeki tü fonksiyonları çağırmak anlamına gelir\n",
    "dir(math)"
   ]
  },
  {
   "cell_type": "code",
   "execution_count": null,
   "id": "1459915b",
   "metadata": {},
   "outputs": [],
   "source": [
    "factorial(5)"
   ]
  },
  {
   "cell_type": "code",
   "execution_count": null,
   "id": "9fc00de2",
   "metadata": {},
   "outputs": [],
   "source": [
    "floor(4.5)"
   ]
  },
  {
   "cell_type": "code",
   "execution_count": null,
   "id": "bf1386c8",
   "metadata": {},
   "outputs": [],
   "source": [
    "from math import factorial,floor"
   ]
  },
  {
   "cell_type": "code",
   "execution_count": null,
   "id": "1b18a63b",
   "metadata": {},
   "outputs": [],
   "source": [
    "factorial(5)"
   ]
  },
  {
   "cell_type": "code",
   "execution_count": null,
   "id": "6c90a21a",
   "metadata": {},
   "outputs": [],
   "source": [
    "floor(3.5)"
   ]
  },
  {
   "cell_type": "code",
   "execution_count": null,
   "id": "dfbefc04",
   "metadata": {},
   "outputs": [],
   "source": [
    "ceil(3.1245) #Dahil etmediğimiz için hata verdi."
   ]
  },
  {
   "cell_type": "code",
   "execution_count": 1,
   "id": "5e842328",
   "metadata": {},
   "outputs": [],
   "source": [
    "from math import *"
   ]
  },
  {
   "cell_type": "code",
   "execution_count": 2,
   "id": "7694f397",
   "metadata": {},
   "outputs": [],
   "source": [
    "def factorial(sayi):\n",
    "    print(\"Kendi faktöriyel fonksiyonum.\")\n",
    "    faktoriyel = 1\n",
    "    if(sayi == 0 or sayi == 1):\n",
    "        return 1\n",
    "    while (sayi >= 1):\n",
    "        faktoriyel *= sayi\n",
    "        sayi -= 1\n",
    "    return faktoriyel"
   ]
  },
  {
   "cell_type": "code",
   "execution_count": 3,
   "id": "dca41c8b",
   "metadata": {},
   "outputs": [
    {
     "name": "stdout",
     "output_type": "stream",
     "text": [
      "Kendi faktöriyel fonksiyonum.\n"
     ]
    },
    {
     "data": {
      "text/plain": [
       "120"
      ]
     },
     "execution_count": 3,
     "metadata": {},
     "output_type": "execute_result"
    }
   ],
   "source": [
    "factorial(5)"
   ]
  },
  {
   "cell_type": "code",
   "execution_count": null,
   "id": "ec748a76",
   "metadata": {},
   "outputs": [],
   "source": []
  }
 ],
 "metadata": {
  "kernelspec": {
   "display_name": "Python 3",
   "language": "python",
   "name": "python3"
  },
  "language_info": {
   "codemirror_mode": {
    "name": "ipython",
    "version": 3
   },
   "file_extension": ".py",
   "mimetype": "text/x-python",
   "name": "python",
   "nbconvert_exporter": "python",
   "pygments_lexer": "ipython3",
   "version": "3.8.8"
  }
 },
 "nbformat": 4,
 "nbformat_minor": 5
}
