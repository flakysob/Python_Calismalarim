{
 "cells": [
  {
   "cell_type": "code",
   "execution_count": 2,
   "source": [
    "with open(\"bilgiler.txt\",\"r\",encoding=\"utf-8\") as file: #Eğer dosya işlemlerimizi bu blok şeklinde gerçekleştirirsek otomatik olarak kapanacaktır.\r\n",
    "    for i in file:\r\n",
    "        print(i, end=\" \")"
   ],
   "outputs": [
    {
     "output_type": "stream",
     "name": "stdout",
     "text": [
      "Ali Doğan\n",
      " Leyla Doğan\n",
      " Taha Doğan\n",
      " Aslı Doğan\n",
      " "
     ]
    }
   ],
   "metadata": {}
  },
  {
   "cell_type": "code",
   "execution_count": 3,
   "source": [
    "with open(\"bilgiler.txt\",\"r\",encoding=\"utf-8\") as file:\r\n",
    "    print(file.tell())"
   ],
   "outputs": [
    {
     "output_type": "stream",
     "name": "stdout",
     "text": [
      "0\n"
     ]
    }
   ],
   "metadata": {}
  },
  {
   "cell_type": "code",
   "execution_count": 4,
   "source": [
    "with open(\"bilgiler.txt\",\"r\",encoding=\"utf-8\") as file:\r\n",
    "    file.seek(20) #20. byte'a götürdük\r\n",
    "    print(file.tell())"
   ],
   "outputs": [
    {
     "output_type": "stream",
     "name": "stdout",
     "text": [
      "20\n"
     ]
    }
   ],
   "metadata": {}
  },
  {
   "cell_type": "code",
   "execution_count": 5,
   "source": [
    "with open(\"bilgiler.txt\",\"r\",encoding=\"utf-8\") as file:\r\n",
    "    file.seek(5) \r\n",
    "    icerik = file.read(10) #Sadece 10 karakteri oku demektir.\r\n",
    "    print(\"İmlecin konumu : \",file.tell())\r\n",
    "    print(icerik)\r\n"
   ],
   "outputs": [
    {
     "output_type": "stream",
     "name": "stdout",
     "text": [
      "İmlecin konumu :  17\n",
      "oğan\n",
      "Leyla\n"
     ]
    }
   ],
   "metadata": {}
  },
  {
   "cell_type": "code",
   "execution_count": 6,
   "source": [
    "with open(\"bilgiler.txt\",\"r\",encoding = \"utf-8\") as file:\r\n",
    "    file.seek(5) # 5.byte gidiyoruz.\r\n",
    "    icerik = file.read(10)  # 10 karakteri okuyoruz.\r\n",
    "    print(icerik)\r\n",
    "    file.seek(0)\r\n",
    "    icerik2 = file.read(6)\r\n",
    "    print(icerik2)"
   ],
   "outputs": [
    {
     "output_type": "stream",
     "name": "stdout",
     "text": [
      "oğan\n",
      "Leyla\n",
      "Ali Do\n"
     ]
    }
   ],
   "metadata": {}
  },
  {
   "cell_type": "code",
   "execution_count": null,
   "source": [],
   "outputs": [],
   "metadata": {}
  }
 ],
 "metadata": {
  "orig_nbformat": 4,
  "language_info": {
   "name": "python",
   "version": "3.8.8",
   "mimetype": "text/x-python",
   "codemirror_mode": {
    "name": "ipython",
    "version": 3
   },
   "pygments_lexer": "ipython3",
   "nbconvert_exporter": "python",
   "file_extension": ".py"
  },
  "kernelspec": {
   "name": "python3",
   "display_name": "Python 3.8.8 64-bit"
  },
  "interpreter": {
   "hash": "07efdcd4b820c98a756949507a4d29d7862823915ec7477944641bea022f4f62"
  }
 },
 "nbformat": 4,
 "nbformat_minor": 2
}