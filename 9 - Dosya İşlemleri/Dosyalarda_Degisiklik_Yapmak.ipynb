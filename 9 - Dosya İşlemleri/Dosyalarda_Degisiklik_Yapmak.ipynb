{
 "cells": [
  {
   "cell_type": "code",
   "execution_count": 2,
   "source": [
    "#öncelikle bilgileri gösterelim\r\n",
    "with open(\"bilgiler.txt\",\"r+\",encoding=\"utf-8\") as file:\r\n",
    "    print(file.read())"
   ],
   "outputs": [
    {
     "output_type": "stream",
     "name": "stdout",
     "text": [
      "Ali Doğan\n",
      "Leyla Doğan\n",
      "Taha Doğan\n",
      "Aslı Doğan\n",
      "\n"
     ]
    }
   ],
   "metadata": {}
  },
  {
   "cell_type": "code",
   "execution_count": 3,
   "source": [
    "with open(\"bilgiler.txt\",\"r+\",encoding=\"utf-8\") as file:\r\n",
    "    file.seek(10) #10. byte'a gidildi\r\n",
    "    file.write(\"Deneme\")"
   ],
   "outputs": [],
   "metadata": {}
  },
  {
   "cell_type": "code",
   "execution_count": 5,
   "source": [
    "with open(\"bilgiler.txt\",\"r+\",encoding=\"utf-8\") as file:\r\n",
    "    print(file.read())"
   ],
   "outputs": [
    {
     "output_type": "stream",
     "name": "stdout",
     "text": [
      "Ali DoğanDenemea Doğan\n",
      "Taha Doğan\n",
      "Aslı Doğan\n",
      "\n"
     ]
    }
   ],
   "metadata": {}
  },
  {
   "cell_type": "code",
   "execution_count": 16,
   "source": [
    "with open(\"bilgiler.txt\",\"a\",encoding=\"utf-8\") as file: #\"append\" metoduyla açılan bir dosyanın imleci direk dosyanın sonunda olduğu için sadece write\r\n",
    "    file.write(\"BMW 7.40li \\n\")"
   ],
   "outputs": [],
   "metadata": {}
  },
  {
   "cell_type": "code",
   "execution_count": 17,
   "source": [
    "with open(\"bilgiler.txt\",\"r\",encoding=\"utf-8\") as file:\r\n",
    "    print(file.read())"
   ],
   "outputs": [
    {
     "output_type": "stream",
     "name": "stdout",
     "text": [
      "Ali Doğan\n",
      "Leyla Doğan\n",
      "Taha Doğan\n",
      "Aslı Doğan\n",
      "\n",
      "\n",
      "BMW 7.40li \n",
      "\n"
     ]
    }
   ],
   "metadata": {}
  },
  {
   "cell_type": "code",
   "execution_count": 18,
   "source": [
    "with open(\"bilgiler.txt\",\"r+\",encoding=\"utf-8\") as file:\r\n",
    "    icerik = file.read()\r\n",
    "    print(icerik)"
   ],
   "outputs": [
    {
     "output_type": "stream",
     "name": "stdout",
     "text": [
      "Ali Doğan\n",
      "Leyla Doğan\n",
      "Taha Doğan\n",
      "Aslı Doğan\n",
      "\n",
      "\n",
      "BMW 7.40li \n",
      "\n"
     ]
    }
   ],
   "metadata": {}
  },
  {
   "cell_type": "code",
   "execution_count": 19,
   "source": [
    "#Dosyanın başına ekleme yapalım\r\n",
    "with open(\"bilgiler.txt\",\"r+\",encoding=\"utf-8\") as file:\r\n",
    "    icerik = file.read()\r\n",
    "    icerik = \"Porsche 911 Carerra S \\n\" + icerik\r\n",
    "    file.seek(0)\r\n",
    "    file.write(icerik)"
   ],
   "outputs": [],
   "metadata": {}
  },
  {
   "cell_type": "code",
   "execution_count": 20,
   "source": [
    "with open(\"bilgiler.txt\",\"r+\",encoding=\"utf-8\") as file:\r\n",
    "    icerik = file.read()\r\n",
    "    print(icerik)"
   ],
   "outputs": [
    {
     "output_type": "stream",
     "name": "stdout",
     "text": [
      "Porsche 911 Carerra S \n",
      "Ali Doğan\n",
      "Leyla Doğan\n",
      "Taha Doğan\n",
      "Aslı Doğan\n",
      "\n",
      "\n",
      "BMW 7.40li \n",
      "\n"
     ]
    }
   ],
   "metadata": {}
  },
  {
   "cell_type": "code",
   "execution_count": 2,
   "source": [
    "#Öncelikle dosyamızda ne var ne yok bir görelim.\r\n",
    "with open(\"bilgiler.txt\",\"r+\",encoding=\"utf-8\") as file:\r\n",
    "    print(file.readlines())\r\n",
    "    "
   ],
   "outputs": [
    {
     "output_type": "stream",
     "name": "stdout",
     "text": [
      "['Porsche 911 Carerra S \\n', 'Ali Doğan\\n', 'Leyla Doğan\\n', 'Taha Doğan\\n', 'Aslı Doğan\\n', 'xxxxx xxxxxx \\n', '\\n', '\\n', 'BMW 7.40li \\n']\n"
     ]
    }
   ],
   "metadata": {}
  },
  {
   "cell_type": "code",
   "execution_count": 13,
   "source": [
    "with open(\"bilgiler.txt\",\"r+\",encoding=\"utf-8\") as file:\r\n",
    "    liste = file.readlines()\r\n",
    "    liste.insert(5,\"yyyy yyyyy \\n\") #listenin 5. elemanına yyyy yyyyy değerini ekledik\r\n",
    "    file.seek(0) #listenin en başına imleci gönderdik\r\n",
    "    for s in liste: #s değişkeninin liste(tüm elemanlar) içerisinde dolanacağını tanımladık\r\n",
    "        file.write(s) #s değişkenine gelen her değeri dosya içerisine gönderdik\r\n",
    "    "
   ],
   "outputs": [],
   "metadata": {}
  },
  {
   "cell_type": "code",
   "execution_count": 14,
   "source": [
    "with open(\"bilgiler.txt\",\"r+\",encoding=\"utf-8\") as file:\r\n",
    "    icerik = file.read()\r\n",
    "    print(icerik) #ekrana çıktı verdik"
   ],
   "outputs": [
    {
     "output_type": "stream",
     "name": "stdout",
     "text": [
      "Porsche 911 Carerra S \n",
      "Ali Doğan\n",
      "Leyla Doğan\n",
      "Taha Doğan\n",
      "Aslı Doğan\n",
      "yyyy yyyyy \n",
      "yyyy yyyyy \n",
      "xxxxx xxxxxx \n",
      "\n",
      "\n",
      "BMW 7.40li \n",
      "\n"
     ]
    }
   ],
   "metadata": {}
  },
  {
   "cell_type": "code",
   "execution_count": 15,
   "source": [
    "with open(\"bilgiler.txt\",\"r+\",encoding=\"utf-8\") as file:\r\n",
    "    liste = file.readlines()\r\n",
    "    liste.insert(5,\"zzzz zzzzz \\n\") #listenin 5. elemanına yyyy yyyyy değerini ekledik\r\n",
    "    file.seek(0) #listenin en başına imleci gönderdik\r\n",
    "    file.writelines(liste) #liste içerisindekileri file değişkenine yaz demektir.\r\n",
    "    "
   ],
   "outputs": [],
   "metadata": {}
  },
  {
   "cell_type": "code",
   "execution_count": 17,
   "source": [
    "with open(\"bilgiler.txt\",\"r+\",encoding=\"utf-8\") as file:\r\n",
    "    icerik = file.read() #readlines yapsaydık liste haline (\"[]\") getirecekti.\r\n",
    "    print(icerik)"
   ],
   "outputs": [
    {
     "output_type": "stream",
     "name": "stdout",
     "text": [
      "Porsche 911 Carerra S \n",
      "Ali Doğan\n",
      "Leyla Doğan\n",
      "Taha Doğan\n",
      "Aslı Doğan\n",
      "zzzz zzzzz \n",
      "yyyy yyyyy \n",
      "xxxxx xxxxxx \n",
      "\n",
      "\n",
      "BMW 7.40li \n",
      "\n"
     ]
    }
   ],
   "metadata": {}
  },
  {
   "cell_type": "code",
   "execution_count": null,
   "source": [],
   "outputs": [],
   "metadata": {}
  }
 ],
 "metadata": {
  "orig_nbformat": 4,
  "language_info": {
   "name": "python",
   "version": "3.8.8",
   "mimetype": "text/x-python",
   "codemirror_mode": {
    "name": "ipython",
    "version": 3
   },
   "pygments_lexer": "ipython3",
   "nbconvert_exporter": "python",
   "file_extension": ".py"
  },
  "kernelspec": {
   "name": "python3",
   "display_name": "Python 3.8.8 64-bit"
  },
  "interpreter": {
   "hash": "68e10fb3fd42f7f0a2653d7d00316079953d5623828c7960bb866aa8fb956568"
  }
 },
 "nbformat": 4,
 "nbformat_minor": 2
}