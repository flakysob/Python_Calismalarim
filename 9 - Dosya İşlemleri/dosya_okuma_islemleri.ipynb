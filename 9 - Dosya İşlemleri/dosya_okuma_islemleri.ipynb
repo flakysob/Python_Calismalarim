{
 "cells": [
  {
   "cell_type": "code",
   "execution_count": 5,
   "source": [
    "file = open(\"bilgiler.txt\",\"r\",encoding=\"utf-8\")"
   ],
   "outputs": [],
   "metadata": {}
  },
  {
   "cell_type": "code",
   "execution_count": 6,
   "source": [
    "file = open(\"bilgiler3.txt\",\"r\",encoding=\"utf-8\")\r\n",
    "#Böyle bir dosya olmadığı için FileNotFoundError hatası aldık."
   ],
   "outputs": [
    {
     "output_type": "error",
     "ename": "FileNotFoundError",
     "evalue": "[Errno 2] No such file or directory: 'bilgiler3.txt'",
     "traceback": [
      "\u001b[1;31m---------------------------------------------------------------------------\u001b[0m",
      "\u001b[1;31mFileNotFoundError\u001b[0m                         Traceback (most recent call last)",
      "\u001b[1;32m<ipython-input-6-86bc84be5911>\u001b[0m in \u001b[0;36m<module>\u001b[1;34m\u001b[0m\n\u001b[1;32m----> 1\u001b[1;33m \u001b[0mfile\u001b[0m \u001b[1;33m=\u001b[0m \u001b[0mopen\u001b[0m\u001b[1;33m(\u001b[0m\u001b[1;34m\"bilgiler3.txt\"\u001b[0m\u001b[1;33m,\u001b[0m\u001b[1;34m\"r\"\u001b[0m\u001b[1;33m,\u001b[0m\u001b[0mencoding\u001b[0m\u001b[1;33m=\u001b[0m\u001b[1;34m\"utf-8\"\u001b[0m\u001b[1;33m)\u001b[0m\u001b[1;33m\u001b[0m\u001b[1;33m\u001b[0m\u001b[0m\n\u001b[0m\u001b[0;32m      2\u001b[0m \u001b[1;31m#Böyle bir dosya olmadığı için FileNotFoundError hatası aldık.\u001b[0m\u001b[1;33m\u001b[0m\u001b[1;33m\u001b[0m\u001b[1;33m\u001b[0m\u001b[0m\n",
      "\u001b[1;31mFileNotFoundError\u001b[0m: [Errno 2] No such file or directory: 'bilgiler3.txt'"
     ]
    }
   ],
   "metadata": {}
  },
  {
   "cell_type": "code",
   "execution_count": 7,
   "source": [
    "try:\r\n",
    "    file = open(\"bilgiler3.txt\",\"r\",encoding=\"utf-8\")\r\n",
    "except FileNotFoundError:\r\n",
    "    print(\"Böyle bir dosya bulunamadı.\")\r\n"
   ],
   "outputs": [
    {
     "output_type": "stream",
     "name": "stdout",
     "text": [
      "Böyle bir dosya bulunamadı.\n"
     ]
    }
   ],
   "metadata": {}
  },
  {
   "cell_type": "code",
   "execution_count": 8,
   "source": [
    "file = open(\"bilgiler.txt\",\"r\",encoding=\"utf-8\")\r\n",
    "\r\n",
    "for i in file: #tıpkı listelerde olduğu gibi tüm satırlar üzerinde gezineceğiz.\r\n",
    "    print(i) #her bir satırı ekrana bastırıyoruz.\r\n",
    "file.close()\r\n"
   ],
   "outputs": [
    {
     "output_type": "stream",
     "name": "stdout",
     "text": [
      "Ali Doğan\n",
      "\n",
      "Leyla Doğan\n",
      "\n",
      "Taha Doğan\n",
      "\n",
      "Aslı Doğan\n",
      "\n"
     ]
    }
   ],
   "metadata": {}
  },
  {
   "cell_type": "code",
   "execution_count": 9,
   "source": [
    "file = open(\"bilgiler2.txt\",\"r\",encoding=\"utf-8\")\r\n",
    "\r\n",
    "for i in file: #tıpkı listelerde olduğu gibi tüm satırlar üzerinde gezineceğiz.\r\n",
    "    print(i) #her bir satırı ekrana bastırıyoruz.\r\n",
    "file.close()"
   ],
   "outputs": [
    {
     "output_type": "stream",
     "name": "stdout",
     "text": [
      "Taha Doğan 2. kez Taha Doğan 2. kez Taha Doğan\n"
     ]
    }
   ],
   "metadata": {}
  },
  {
   "cell_type": "code",
   "execution_count": 10,
   "source": [
    "file = open(\"bilgiler2.txt\",\"r\",encoding=\"utf-8\")\r\n",
    "\r\n",
    "for i in file: #tıpkı listelerde olduğu gibi tüm satırlar üzerinde gezineceğiz.\r\n",
    "    print(i,end=\" \") #her bir satırı ekrana bastırıyoruz.\r\n",
    "file.close()"
   ],
   "outputs": [
    {
     "output_type": "stream",
     "name": "stdout",
     "text": [
      "Taha Doğan 2. kez Taha Doğan 2. kez Taha Doğan "
     ]
    }
   ],
   "metadata": {}
  },
  {
   "cell_type": "code",
   "execution_count": 11,
   "source": [
    "file = open(\"bilgiler.txt\",\"r\",encoding=\"utf-8\")\r\n",
    "icerik = file.read()\r\n",
    "\r\n",
    "print(\"dosya içeriği : \\n\", icerik , sep=\"\")\r\n",
    "\r\n",
    "file.close()"
   ],
   "outputs": [
    {
     "output_type": "stream",
     "name": "stdout",
     "text": [
      "dosya içeriği : \n",
      "Ali Doğan\n",
      "Leyla Doğan\n",
      "Taha Doğan\n",
      "Aslı Doğan\n",
      "\n"
     ]
    }
   ],
   "metadata": {}
  },
  {
   "cell_type": "code",
   "execution_count": 12,
   "source": [
    "file = open(\"bilgiler2.txt\",\"r\",encoding=\"utf-8\")\r\n",
    "icerik = file.read()\r\n",
    "\r\n",
    "print(\"dosya içeriği : \\n\", icerik , sep=\"\")\r\n",
    "\r\n",
    "file.close()"
   ],
   "outputs": [
    {
     "output_type": "stream",
     "name": "stdout",
     "text": [
      "dosya içeriği : \n",
      "Taha Doğan 2. kez Taha Doğan 2. kez Taha Doğan\n"
     ]
    }
   ],
   "metadata": {}
  },
  {
   "cell_type": "code",
   "execution_count": 13,
   "source": [
    "file = open(\"bilgiler.txt\",\"r\",encoding=\"utf-8\")\r\n",
    "icerik = file.readline()\r\n",
    "\r\n",
    "print(\"dosya içeriği : \\n\", icerik , sep=\"\")\r\n"
   ],
   "outputs": [
    {
     "output_type": "stream",
     "name": "stdout",
     "text": [
      "dosya içeriği : \n",
      "Ali Doğan\n",
      "\n"
     ]
    }
   ],
   "metadata": {}
  },
  {
   "cell_type": "code",
   "execution_count": 14,
   "source": [
    "icerik = file.readline()\r\n",
    "\r\n",
    "print(\"dosya içeriği : \\n\", icerik , sep=\"\")"
   ],
   "outputs": [
    {
     "output_type": "stream",
     "name": "stdout",
     "text": [
      "dosya içeriği : \n",
      "Leyla Doğan\n",
      "\n"
     ]
    }
   ],
   "metadata": {}
  },
  {
   "cell_type": "code",
   "execution_count": 15,
   "source": [
    "icerik = file.readline()\r\n",
    "\r\n",
    "print(\"dosya içeriği : \\n\", icerik , sep=\"\")"
   ],
   "outputs": [
    {
     "output_type": "stream",
     "name": "stdout",
     "text": [
      "dosya içeriği : \n",
      "Taha Doğan\n",
      "\n"
     ]
    }
   ],
   "metadata": {}
  },
  {
   "cell_type": "code",
   "execution_count": 16,
   "source": [
    "icerik = file.readline()\r\n",
    "\r\n",
    "print(\"dosya içeriği : \\n\", icerik , sep=\"\")"
   ],
   "outputs": [
    {
     "output_type": "stream",
     "name": "stdout",
     "text": [
      "dosya içeriği : \n",
      "Aslı Doğan\n",
      "\n"
     ]
    }
   ],
   "metadata": {}
  },
  {
   "cell_type": "code",
   "execution_count": 17,
   "source": [
    "icerik = file.readline()\r\n",
    "\r\n",
    "print(\"dosya içeriği : \\n\", icerik , sep=\"\")\r\n",
    "file.close()\r\n"
   ],
   "outputs": [
    {
     "output_type": "stream",
     "name": "stdout",
     "text": [
      "dosya içeriği : \n",
      "\n"
     ]
    }
   ],
   "metadata": {}
  },
  {
   "cell_type": "code",
   "execution_count": 23,
   "source": [
    "file = open(\"bilgiler.txt\",\"r\",encoding=\"utf-8\")"
   ],
   "outputs": [],
   "metadata": {}
  },
  {
   "cell_type": "code",
   "execution_count": 24,
   "source": [
    "file.readlines()"
   ],
   "outputs": [
    {
     "output_type": "execute_result",
     "data": {
      "text/plain": [
       "['Ali Doğan\\n', 'Leyla Doğan\\n', 'Taha Doğan\\n', 'Aslı Doğan\\n']"
      ]
     },
     "metadata": {},
     "execution_count": 24
    }
   ],
   "metadata": {}
  },
  {
   "cell_type": "code",
   "execution_count": 25,
   "source": [
    "file.close()"
   ],
   "outputs": [],
   "metadata": {}
  },
  {
   "cell_type": "code",
   "execution_count": null,
   "source": [],
   "outputs": [],
   "metadata": {}
  }
 ],
 "metadata": {
  "orig_nbformat": 4,
  "language_info": {
   "name": "python",
   "version": "3.8.8",
   "mimetype": "text/x-python",
   "codemirror_mode": {
    "name": "ipython",
    "version": 3
   },
   "pygments_lexer": "ipython3",
   "nbconvert_exporter": "python",
   "file_extension": ".py"
  },
  "kernelspec": {
   "name": "python3",
   "display_name": "Python 3.8.8 64-bit ('base': conda)"
  },
  "interpreter": {
   "hash": "07efdcd4b820c98a756949507a4d29d7862823915ec7477944641bea022f4f62"
  }
 },
 "nbformat": 4,
 "nbformat_minor": 2
}