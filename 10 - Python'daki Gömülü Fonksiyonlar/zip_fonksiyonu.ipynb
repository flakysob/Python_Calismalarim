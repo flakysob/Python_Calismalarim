{
 "cells": [
  {
   "cell_type": "code",
   "execution_count": 2,
   "source": [
    "liste1 = [1,2,3,4,5]\r\n",
    "liste2 = [6,7,8,9,10]\r\n",
    "\r\n",
    "#sonucu [(1,6),(2,7),(3,8),(4,9),(5,10)] yapmaya çalışalım\r\n",
    "\r\n",
    "i = 0\r\n",
    "sonuc = list()\r\n",
    "while(i<len(liste1) and i<len(liste2)):\r\n",
    "    sonuc.append((liste1[i],liste2[i])) #çift paranteze dikkat\r\n",
    "    i+=1\r\n",
    "print(sonuc)"
   ],
   "outputs": [
    {
     "output_type": "stream",
     "name": "stdout",
     "text": [
      "[(1, 6), (2, 7), (3, 8), (4, 9), (5, 10)]\n"
     ]
    }
   ],
   "metadata": {}
  },
  {
   "cell_type": "code",
   "execution_count": 3,
   "source": [
    "zip(liste1,liste2)"
   ],
   "outputs": [
    {
     "output_type": "execute_result",
     "data": {
      "text/plain": [
       "<zip at 0x18fa75e1b80>"
      ]
     },
     "metadata": {},
     "execution_count": 3
    }
   ],
   "metadata": {}
  },
  {
   "cell_type": "code",
   "execution_count": 4,
   "source": [
    "list(zip(liste1,liste2))"
   ],
   "outputs": [
    {
     "output_type": "execute_result",
     "data": {
      "text/plain": [
       "[(1, 6), (2, 7), (3, 8), (4, 9), (5, 10)]"
      ]
     },
     "metadata": {},
     "execution_count": 4
    }
   ],
   "metadata": {}
  },
  {
   "cell_type": "code",
   "execution_count": 5,
   "source": [
    "liste1 = [1,2,3,4]\r\n",
    "liste2 = [5,6,7,8]\r\n",
    "liste3 = [\"Python\",\"Php\",\"Java\",\"Javascript\",\"C\"]"
   ],
   "outputs": [],
   "metadata": {}
  },
  {
   "cell_type": "code",
   "execution_count": 6,
   "source": [
    "list(zip(liste1,liste2,liste3))"
   ],
   "outputs": [
    {
     "output_type": "execute_result",
     "data": {
      "text/plain": [
       "[(1, 5, 'Python'), (2, 6, 'Php'), (3, 7, 'Java'), (4, 8, 'Javascript')]"
      ]
     },
     "metadata": {},
     "execution_count": 6
    }
   ],
   "metadata": {}
  },
  {
   "cell_type": "code",
   "execution_count": 8,
   "source": [
    "#Aynı anda iki liste üzerinde gezinmek\r\n",
    "liste1 = [1,2,3,4]\r\n",
    "liste2 = [\"Python\",\"Php\",\"Java\",\"Javascript\"]\r\n",
    "\r\n",
    "for i,j in zip(liste1,liste2):\r\n",
    "    print(\"i:\",i,\"j:\",j)"
   ],
   "outputs": [
    {
     "output_type": "stream",
     "name": "stdout",
     "text": [
      "i: 1 j: Python\n",
      "i: 2 j: Php\n",
      "i: 3 j: Java\n",
      "i: 4 j: Javascript\n"
     ]
    }
   ],
   "metadata": {}
  },
  {
   "cell_type": "code",
   "execution_count": 10,
   "source": [
    "#Sözlükleri zipleyelim.\r\n",
    "sozluk1 = {\"Elma\":1, \"Armut\":2, \"Kiraz\":3}\r\n",
    "sozluk2 = {\"Sıfır\":0, \"Bir\":1, \"İki\":2}"
   ],
   "outputs": [],
   "metadata": {}
  },
  {
   "cell_type": "code",
   "execution_count": 11,
   "source": [
    "list(zip(sozluk1,sozluk2))#Anahtarlar eşleşti"
   ],
   "outputs": [
    {
     "output_type": "execute_result",
     "data": {
      "text/plain": [
       "[('Elma', 'Sıfır'), ('Armut', 'Bir'), ('Kiraz', 'İki')]"
      ]
     },
     "metadata": {},
     "execution_count": 11
    }
   ],
   "metadata": {}
  },
  {
   "cell_type": "code",
   "execution_count": 12,
   "source": [
    "list(zip(sozluk1.values(),sozluk2.values()))#Değerler eşleşti"
   ],
   "outputs": [
    {
     "output_type": "execute_result",
     "data": {
      "text/plain": [
       "[(1, 0), (2, 1), (3, 2)]"
      ]
     },
     "metadata": {},
     "execution_count": 12
    }
   ],
   "metadata": {}
  },
  {
   "cell_type": "code",
   "execution_count": null,
   "source": [],
   "outputs": [],
   "metadata": {}
  }
 ],
 "metadata": {
  "orig_nbformat": 4,
  "language_info": {
   "name": "python",
   "version": "3.9.5",
   "mimetype": "text/x-python",
   "codemirror_mode": {
    "name": "ipython",
    "version": 3
   },
   "pygments_lexer": "ipython3",
   "nbconvert_exporter": "python",
   "file_extension": ".py"
  },
  "kernelspec": {
   "name": "python3",
   "display_name": "Python 3.9.5 64-bit"
  },
  "interpreter": {
   "hash": "69660cda8993c92853e7b170e580d69349f23c40d11886f023df74701d13ff2f"
  }
 },
 "nbformat": 4,
 "nbformat_minor": 2
}