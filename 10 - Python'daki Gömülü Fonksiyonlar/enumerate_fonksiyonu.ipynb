{
 "cells": [
  {
   "cell_type": "code",
   "execution_count": 6,
   "source": [
    "#İstenilen çıktı: [(0,'Elma'),(1,'Armut'),(2,'Muz'),(3,'Kiraz')]\r\n",
    "liste = [\"Elma\",\"Armut\",\"Muz\",\"Kiraz\"]\r\n",
    "sonuc = list()\r\n",
    "i=0\r\n",
    "for a in liste:\r\n",
    "    sonuc.append((i,a))\r\n",
    "    i+=1\r\n",
    "print(sonuc)"
   ],
   "outputs": [
    {
     "output_type": "stream",
     "name": "stdout",
     "text": [
      "[(0, 'Elma'), (1, 'Armut'), (2, 'Muz'), (3, 'Kiraz')]\n"
     ]
    }
   ],
   "metadata": {}
  },
  {
   "cell_type": "code",
   "execution_count": 7,
   "source": [
    "list(enumerate(liste))"
   ],
   "outputs": [
    {
     "output_type": "execute_result",
     "data": {
      "text/plain": [
       "[(0, 'Elma'), (1, 'Armut'), (2, 'Muz'), (3, 'Kiraz')]"
      ]
     },
     "metadata": {},
     "execution_count": 7
    }
   ],
   "metadata": {}
  },
  {
   "cell_type": "code",
   "execution_count": 9,
   "source": [
    "liste = [\"a\",\"b\",\"c\",\"d\",\"e\",\"f\",\"g\"]\r\n",
    "\r\n",
    "for index,eleman in enumerate(liste):\r\n",
    "    if(index%2==0):\r\n",
    "        print(\"Eleman : \", eleman)"
   ],
   "outputs": [
    {
     "output_type": "stream",
     "name": "stdout",
     "text": [
      "Eleman :  a\n",
      "Eleman :  c\n",
      "Eleman :  e\n",
      "Eleman :  g\n"
     ]
    }
   ],
   "metadata": {}
  },
  {
   "cell_type": "code",
   "execution_count": null,
   "source": [],
   "outputs": [],
   "metadata": {}
  }
 ],
 "metadata": {
  "orig_nbformat": 4,
  "language_info": {
   "name": "python"
  }
 },
 "nbformat": 4,
 "nbformat_minor": 2
}