{
 "cells": [
  {
   "cell_type": "code",
   "execution_count": 4,
   "id": "ad1554aa",
   "metadata": {},
   "outputs": [
    {
     "name": "stdout",
     "output_type": "stream",
     "text": [
      "1-2-3 (Bir işlem seçin)2\n",
      "işlem 2 seçildi\n"
     ]
    }
   ],
   "source": [
    "x = int(input(\"1-2-3 (Bir işlem seçin)\"))\n",
    "\n",
    "if (x==1):\n",
    "    print(\"işlem 1 seçildi\")\n",
    "elif (x==2):\n",
    "    print(\"işlem 2 seçildi\")\n",
    "elif (x==3):\n",
    "    print(\"işlem 3 seçildi\")\n",
    "else:\n",
    "    print(\"hatalı giriş yaptınız.\")"
   ]
  },
  {
   "cell_type": "code",
   "execution_count": 5,
   "id": "ec82628c",
   "metadata": {},
   "outputs": [
    {
     "name": "stdout",
     "output_type": "stream",
     "text": [
      "Notunuzu giriniz:80\n",
      "BB\n",
      "CB\n",
      "CC\n",
      "DC\n",
      "DD\n"
     ]
    }
   ],
   "source": [
    "note = float(input(\"Notunuzu giriniz:\"))\n",
    "\n",
    "if note >= 90:\n",
    "    print(\"AA\")\n",
    "if note >= 85:\n",
    "    print(\"BA\")\n",
    "if note >= 90:\n",
    "    print(\"BA\")\n",
    "if note >= 80:\n",
    "    print(\"BB\")\n",
    "if note >= 75:\n",
    "    print(\"CB\")\n",
    "if note >= 70:\n",
    "    print(\"CC\")\n",
    "if note >= 65:\n",
    "    print(\"DC\")\n",
    "if note >= 60:\n",
    "    print(\"DD\")\n",
    "else:\n",
    "    print(\"Dersten Kaldınız\")"
   ]
  },
  {
   "cell_type": "code",
   "execution_count": 8,
   "id": "48ffa70f",
   "metadata": {},
   "outputs": [
    {
     "name": "stdout",
     "output_type": "stream",
     "text": [
      "Notunuzu giriniz:90\n",
      "AA\n",
      "BA\n",
      "BA\n",
      "BB\n",
      "CB\n",
      "CC\n",
      "DC\n",
      "DD\n"
     ]
    }
   ],
   "source": [
    "note = float(input(\"Notunuzu giriniz:\"))\n",
    "\n",
    "if note >= 90:\n",
    "    print(\"AA\")\n",
    "if note >= 85:\n",
    "    print(\"BA\")\n",
    "if note >= 90:\n",
    "    print(\"BA\")\n",
    "if note >= 80:\n",
    "    print(\"BB\")\n",
    "if note >= 75:\n",
    "    print(\"CB\")\n",
    "if note >= 70:\n",
    "    print(\"CC\")\n",
    "if note >= 65:\n",
    "    print(\"DC\")\n",
    "if note >= 60:\n",
    "    print(\"DD\")\n",
    "else:\n",
    "    print(\"Dersten Kaldınız\")"
   ]
  },
  {
   "cell_type": "code",
   "execution_count": null,
   "id": "eb056583",
   "metadata": {},
   "outputs": [],
   "source": []
  }
 ],
 "metadata": {
  "kernelspec": {
   "display_name": "Python 3",
   "language": "python",
   "name": "python3"
  },
  "language_info": {
   "codemirror_mode": {
    "name": "ipython",
    "version": 3
   },
   "file_extension": ".py",
   "mimetype": "text/x-python",
   "name": "python",
   "nbconvert_exporter": "python",
   "pygments_lexer": "ipython3",
   "version": "3.8.8"
  }
 },
 "nbformat": 4,
 "nbformat_minor": 5
}
